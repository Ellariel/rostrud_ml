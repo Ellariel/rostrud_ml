{
  "cells": [
    {
      "cell_type": "markdown",
      "id": "01c20a63",
      "metadata": {
        "id": "01c20a63"
      },
      "source": [
        "# Работа модели для матчинга резюме и вакансий портала \"Работа в России\":"
      ]
    },
    {
      "cell_type": "code",
      "execution_count": 1,
      "id": "a9d6301b",
      "metadata": {
        "colab": {
          "base_uri": "https://localhost:8080/"
        },
        "id": "a9d6301b",
        "outputId": "a0092a95-d9d5-44ad-8453-efaba1c4a80e"
      },
      "outputs": [
        {
          "output_type": "stream",
          "name": "stderr",
          "text": [
            "Cloning into 'rostrud_ml'...\n"
          ]
        }
      ],
      "source": [
        "#Установим библиотеку, разработанную ЦПУР\n",
        "#jupyter notebook --NotebookApp.allow_origin='https://colab.research.google.com' --port=8899 --NotebookApp.port_retries=0\n",
        "!git clone https://github.com/ellariel/rostrud_ml.git"
      ]
    },
    {
      "cell_type": "markdown",
      "id": "cc746f61",
      "metadata": {
        "id": "cc746f61"
      },
      "source": [
        "После скачивания корневая папка должна быть переименована в rostrud_ml"
      ]
    },
    {
      "cell_type": "markdown",
      "id": "e9893baf",
      "metadata": {
        "id": "e9893baf"
      },
      "source": [
        "## Предварительные действия\n",
        "У этого скрипта есть несколько зависимостей, их можно поставить через pip. При запуске блока кода ниже всё поставится само.\n",
        "\n",
        "Если в какой-то момент выполнения кода вы увидите ошибку, что вам не хватает некого питоновского пакета, вы можете дописать его название в новую строчку файла requirements.txt и снова запустить этот блок."
      ]
    },
    {
      "cell_type": "code",
      "execution_count": null,
      "id": "c3c948e7",
      "metadata": {
        "id": "c3c948e7"
      },
      "outputs": [],
      "source": [
        "#Установка окружения\n",
        "!pip install -r rostrud_ml/requirements.txt"
      ]
    },
    {
      "cell_type": "markdown",
      "id": "11516604",
      "metadata": {
        "id": "11516604"
      },
      "source": [
        "В файле rostrud_ml/utils/all_tables_names.yml указать путь к директории, куда будут скачиваться и парситься файлы с резюме, вакансиями (сейчас там \"workdir\")."
      ]
    },
    {
      "cell_type": "markdown",
      "id": "a3457e30",
      "metadata": {
        "id": "a3457e30"
      },
      "source": [
        "В файле rostrud-ml/utils/config_to_bd_example.yml указать ваши настройки для подключения к БД и поменять название файла на config_to_bd.yml"
      ]
    },
    {
      "cell_type": "code",
      "source": [
        "import requests\n",
        "from tqdm import tqdm\n",
        "import pandas as pd\n",
        "\n",
        "def _getfileslist(url):\n",
        "  r = requests.get(url)\n",
        "  return ['data' + i.split('\">data')[0] for i in r.text.split('<a href=\"data')[1:]]"
      ],
      "metadata": {
        "id": "XCB4dbebkak0"
      },
      "id": "XCB4dbebkak0",
      "execution_count": 61,
      "outputs": []
    },
    {
      "cell_type": "code",
      "source": [
        "base_url = 'https://opendata.trudvsem.ru/oda2Hialoephidohyie1oR6chaem1oN0quiephooleiWei1aiD/'\n",
        "file_url = ['7710538364-cv/', '7710538364-professions/', '7710538364-regions/', '7710538364-industries/', '7710538364-vacancy/']"
      ],
      "metadata": {
        "id": "ZBPp8gi_kana"
      },
      "id": "ZBPp8gi_kana",
      "execution_count": 62,
      "outputs": []
    },
    {
      "cell_type": "code",
      "source": [
        "s = pd.DataFrame(_getfileslist(base_url + file_url[0])).rename(columns={0: 'cv'})\n",
        "s = s[s['cv'].apply(lambda x: pd.notna(x) and '.gz' in x)]\n",
        "s = s[s['cv'].apply(lambda x: int(x.split('data-')[1][:4]) >= 2019)]\n",
        "s['month'] = s['cv'].apply(lambda x: x.split('data-')[1][:6])\n",
        "s = s.groupby('month').agg('last').reset_index()\n",
        "\n",
        "for l in file_url[1:]:\n",
        "    c = l.split('-')[1][:2]\n",
        "    v = pd.DataFrame(pd.Series(_getfileslist(base_url + l)).rename(c))\n",
        "    v = v[v[c].apply(lambda x: pd.notna(x) and '.gz' in x)]\n",
        "    v = v[v[c].apply(lambda x: int(x.split('data-')[1][:4]) >= 2019)]\n",
        "    v['month'] = v[c].apply(lambda x: x.split('data-')[1][:6])\n",
        "    v = v.groupby('month').agg('last').reset_index()\n",
        "    s = s.set_index('month').join(v.set_index('month')).reset_index()#.drop_duplicates('files')\n",
        "s.to_csv('filtered.csv', index=False)"
      ],
      "metadata": {
        "id": "flP7bvY3lZ6x"
      },
      "id": "flP7bvY3lZ6x",
      "execution_count": 83,
      "outputs": []
    },
    {
      "cell_type": "code",
      "source": [],
      "metadata": {
        "id": "3SxohJL16vCr"
      },
      "id": "3SxohJL16vCr",
      "execution_count": 100,
      "outputs": []
    },
    {
      "cell_type": "markdown",
      "id": "87b7c9a8",
      "metadata": {
        "id": "87b7c9a8"
      },
      "source": [
        "## Загрузка в БД необходимых данных"
      ]
    },
    {
      "cell_type": "code",
      "source": [
        "filtered = pd.read_csv('filtered.csv')\n",
        "len(filtered)"
      ],
      "metadata": {
        "colab": {
          "base_uri": "https://localhost:8080/"
        },
        "id": "FMpzJnaI6ySC",
        "outputId": "9c737067-b690-4aef-bc4d-a2ac7eb8ef5b"
      },
      "id": "FMpzJnaI6ySC",
      "execution_count": 84,
      "outputs": [
        {
          "output_type": "execute_result",
          "data": {
            "text/plain": [
              "56"
            ]
          },
          "metadata": {},
          "execution_count": 84
        }
      ]
    },
    {
      "cell_type": "code",
      "execution_count": 85,
      "id": "988f6f3d",
      "metadata": {
        "id": "988f6f3d"
      },
      "outputs": [],
      "source": [
        "#Установка модулей\n",
        "from rostrud_ml.process.adding_tables_psycopg import AddingDataPsycopg\n",
        "from rostrud_ml.process.renewal import Renewal"
      ]
    },
    {
      "cell_type": "code",
      "execution_count": 86,
      "id": "4d172382",
      "metadata": {
        "colab": {
          "base_uri": "https://localhost:8080/"
        },
        "id": "4d172382",
        "outputId": "fa2f95ef-6141-4467-e51b-c9bd66d723a8"
      },
      "outputs": [
        {
          "output_type": "stream",
          "name": "stdout",
          "text": [
            "Вы подключены к базе: postgres\n"
          ]
        }
      ],
      "source": [
        "#Cоздание таблиц в БД\n",
        "db = AddingDataPsycopg()\n",
        "for table in ['curricula_vitae', 'workexp', 'vacancies', 'professions', 'industries', 'regions']:\n",
        "    db.create_table(table, 'project_trudvsem') #'project_trudvsem' - название схемы в вашей БД\n",
        "db.conn.close()"
      ]
    },
    {
      "cell_type": "markdown",
      "id": "15a975c7",
      "metadata": {
        "id": "15a975c7"
      },
      "source": [
        "Взять ссылки на файлы с данными с ftp поратала https://opendata.trudvsem.ru/oda2Hialoephidohyie1oR6chaem1oN0quiephooleiWei1aiD/:\n",
        "\n",
        "Из директорий\n",
        "https://opendata.trudvsem.ru/oda2Hialoephidohyie1oR6chaem1oN0quiephooleiWei1aiD/7710538364-cv/\n",
        "https://opendata.trudvsem.ru/oda2Hialoephidohyie1oR6chaem1oN0quiephooleiWei1aiD/7710538364-vacancy/ нужно выбрать подходящие файлы (имеющие в наименовании дату) - один файл резюме и один вакансий.\n",
        "\n",
        "Подобным образом выбрать ссылки для данных о профессиях, сферах занятости, регионах из соответствующих директорий:\n",
        "https://opendata.trudvsem.ru/oda2Hialoephidohyie1oR6chaem1oN0quiephooleiWei1aiD/7710538364-professions/\n",
        "https://opendata.trudvsem.ru/oda2Hialoephidohyie1oR6chaem1oN0quiephooleiWei1aiD/7710538364-industries/\n",
        "https://opendata.trudvsem.ru/oda2Hialoephidohyie1oR6chaem1oN0quiephooleiWei1aiD/7710538364-regions/\n",
        "\n",
        "Для каждого типа, вставив нужную ссылку, запустить следующие ячейки:\n",
        "В примере: тип \"резюме\" и самый первый файл резюме 2018г. Необходимо поменять ссылку на наиболее актуальный файл."
      ]
    },
    {
      "cell_type": "code",
      "source": [
        "filtered.head(1)"
      ],
      "metadata": {
        "colab": {
          "base_uri": "https://localhost:8080/",
          "height": 98
        },
        "id": "-oV9abLbscTk",
        "outputId": "49ee4fb6-a84d-4602-a23d-73aa00e54dad"
      },
      "id": "-oV9abLbscTk",
      "execution_count": 87,
      "outputs": [
        {
          "output_type": "execute_result",
          "data": {
            "text/plain": [
              "    month                                                 cv  \\\n",
              "0  201901  data-20190131T033922-structure-20161130T143000...   \n",
              "\n",
              "                                                  pr  \\\n",
              "0  data-20190131T033922-structure-20161130T143000...   \n",
              "\n",
              "                                                  re  \\\n",
              "0  data-20190131T033922-structure-20161130T143000...   \n",
              "\n",
              "                                                  in  \\\n",
              "0  data-20190131T033922-structure-20161130T143000...   \n",
              "\n",
              "                                                  va  \n",
              "0  data-20190131T033922-structure-20161130T143000...  "
            ],
            "text/html": [
              "<div>\n",
              "<style scoped>\n",
              "    .dataframe tbody tr th:only-of-type {\n",
              "        vertical-align: middle;\n",
              "    }\n",
              "\n",
              "    .dataframe tbody tr th {\n",
              "        vertical-align: top;\n",
              "    }\n",
              "\n",
              "    .dataframe thead th {\n",
              "        text-align: right;\n",
              "    }\n",
              "</style>\n",
              "<table border=\"1\" class=\"dataframe\">\n",
              "  <thead>\n",
              "    <tr style=\"text-align: right;\">\n",
              "      <th></th>\n",
              "      <th>month</th>\n",
              "      <th>cv</th>\n",
              "      <th>pr</th>\n",
              "      <th>re</th>\n",
              "      <th>in</th>\n",
              "      <th>va</th>\n",
              "    </tr>\n",
              "  </thead>\n",
              "  <tbody>\n",
              "    <tr>\n",
              "      <th>0</th>\n",
              "      <td>201901</td>\n",
              "      <td>data-20190131T033922-structure-20161130T143000...</td>\n",
              "      <td>data-20190131T033922-structure-20161130T143000...</td>\n",
              "      <td>data-20190131T033922-structure-20161130T143000...</td>\n",
              "      <td>data-20190131T033922-structure-20161130T143000...</td>\n",
              "      <td>data-20190131T033922-structure-20161130T143000...</td>\n",
              "    </tr>\n",
              "  </tbody>\n",
              "</table>\n",
              "</div>"
            ]
          },
          "metadata": {},
          "execution_count": 87
        }
      ]
    },
    {
      "cell_type": "code",
      "execution_count": null,
      "id": "a22f3ebf",
      "metadata": {
        "colab": {
          "base_uri": "https://localhost:8080/"
        },
        "id": "a22f3ebf",
        "outputId": "c19d0841-26fa-465c-f59b-65939687252b"
      },
      "outputs": [
        {
          "output_type": "stream",
          "name": "stdout",
          "text": [
            "100% [....................................................................] 2245375044 / 2245375044Файлы скачены: 2022-03-29\n",
            "workdir\\professions\\2022-03-25professions.xml.gz\n",
            "100% [............................................................................] 240075 / 240075Файлы скачены: 2022-03-25\n",
            "workdir\\industries\\2022-03-25industries.xml.gz\n",
            "100% [................................................................................] 5552 / 5552Файлы скачены: 2022-03-25\n",
            "workdir\\regions\\2022-03-25regions.xml.gz\n"
          ]
        },
        {
          "output_type": "stream",
          "name": "stderr",
          "text": [
            "\r 70%|███████████████████████████████████████████████████████                        | 39/56 [12:58<1:04:26, 227.43s/it]"
          ]
        },
        {
          "output_type": "stream",
          "name": "stdout",
          "text": [
            "\r  0% [                                                                                ]    0 / 1866\r100% [................................................................................] 1866 / 1866Файлы скачены: 2022-03-25\n",
            "workdir\\cvs\\2022-04-30cvs.xml.gz\n",
            " 82% [........................................................            ] 1932337152 / 2340543282"
          ]
        }
      ],
      "source": [
        "for _, link in tqdm(filtered.iterrows(), total=len(filtered)):\n",
        "  ren = Renewal('cvs', base_url + file_url[0] + link['cv'])\n",
        "  ren.download()\n",
        "  #ren.parse_update()\n",
        "  #ren.delete()\n",
        "\n",
        "  #if pd.notna(link['va']):\n",
        "  #  ren = Renewal('vacancies', base_url + file_url[4] + link['va'])\n",
        "  #  ren.download()\n",
        "    #ren.parse_update()\n",
        "    #ren.delete()\n",
        "\n",
        "  ren = Renewal('professions', base_url + file_url[1] + link['pr'])\n",
        "  ren.download()\n",
        "  #ren.parse_update()\n",
        "  #ren.delete()\n",
        "\n",
        "  ren = Renewal('industries', base_url + file_url[2] + link['re'])\n",
        "  ren.download()\n",
        "  #ren.parse_update()\n",
        "  #ren.delete()\n",
        "\n",
        "  ren = Renewal('regions', base_url + file_url[3] + link['in'])\n",
        "  ren.download()\n",
        "  #ren.parse_update()\n",
        "  #ren.delete()\n",
        "\n",
        "  #break"
      ]
    },
    {
      "cell_type": "code",
      "source": [],
      "metadata": {
        "id": "ACV8gplzvGjW"
      },
      "id": "ACV8gplzvGjW",
      "execution_count": null,
      "outputs": []
    },
    {
      "cell_type": "code",
      "source": [],
      "metadata": {
        "id": "Uly_t5GpvGmd"
      },
      "id": "Uly_t5GpvGmd",
      "execution_count": null,
      "outputs": []
    },
    {
      "cell_type": "code",
      "source": [],
      "metadata": {
        "id": "qsvJP-3mvGrD"
      },
      "id": "qsvJP-3mvGrD",
      "execution_count": null,
      "outputs": []
    },
    {
      "cell_type": "code",
      "source": [],
      "metadata": {
        "id": "yxRaXgCSvGuV"
      },
      "id": "yxRaXgCSvGuV",
      "execution_count": null,
      "outputs": []
    }
  ],
  "metadata": {
    "kernelspec": {
      "display_name": "Python 3 (ipykernel)",
      "language": "python",
      "name": "python3"
    },
    "language_info": {
      "codemirror_mode": {
        "name": "ipython",
        "version": 3
      },
      "file_extension": ".py",
      "mimetype": "text/x-python",
      "name": "python",
      "nbconvert_exporter": "python",
      "pygments_lexer": "ipython3",
      "version": "3.9.7"
    },
    "colab": {
      "provenance": []
    }
  },
  "nbformat": 4,
  "nbformat_minor": 5
}