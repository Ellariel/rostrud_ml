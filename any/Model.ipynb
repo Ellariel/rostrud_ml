{
 "cells": [
  {
   "cell_type": "markdown",
   "id": "01c20a63",
   "metadata": {},
   "source": [
    "# Работа модели для матчинга резюме и вакансий портала \"Работа в России\":"
   ]
  },
  {
   "cell_type": "code",
   "execution_count": null,
   "id": "a9d6301b",
   "metadata": {},
   "outputs": [],
   "source": [
    "#Установим библиотеку, разработанную ЦПУР \n",
    "!git clone https://github.com/CAG-ru/rostrud-ml.git"
   ]
  },
  {
   "cell_type": "markdown",
   "id": "cc746f61",
   "metadata": {},
   "source": [
    "После скачивания корневая папка должна быть переименована в rostrud_ml"
   ]
  },
  {
   "cell_type": "markdown",
   "id": "e9893baf",
   "metadata": {},
   "source": [
    "## Предварительные действия\n",
    "У этого скрипта есть несколько зависимостей, их можно поставить через pip. При запуске блока кода ниже всё поставится само.\n",
    "\n",
    "Если в какой-то момент выполнения кода вы увидите ошибку, что вам не хватает некого питоновского пакета, вы можете дописать его название в новую строчку файла requirements.txt и снова запустить этот блок."
   ]
  },
  {
   "cell_type": "code",
   "execution_count": null,
   "id": "c3c948e7",
   "metadata": {},
   "outputs": [],
   "source": [
    "#Установка окружения\n",
    "!pip install -r rostrud_ml/requirements.txt"
   ]
  },
  {
   "cell_type": "markdown",
   "id": "11516604",
   "metadata": {},
   "source": [
    "В файле rostrud_ml/utils/all_tables_names.yml указать путь к директории, куда будут скачиваться и парситься файлы с резюме, вакансиями (сейчас там \"workdir\")."
   ]
  },
  {
   "cell_type": "markdown",
   "id": "a3457e30",
   "metadata": {},
   "source": [
    "В файле rostrud-ml/utils/config_to_bd_example.yml указать ваши настройки для подключения к БД и поменять название файла на config_to_bd.yml"
   ]
  },
  {
   "cell_type": "markdown",
   "id": "87b7c9a8",
   "metadata": {},
   "source": [
    "## Загрузка в БД необходимых данных"
   ]
  },
  {
   "cell_type": "code",
   "execution_count": null,
   "id": "988f6f3d",
   "metadata": {},
   "outputs": [],
   "source": [
    "#Установка модулей\n",
    "from rostrud_ml.process.adding_tables_psycopg import AddingDataPsycopg\n",
    "from rostrud_ml.process.renewal import Renewal"
   ]
  },
  {
   "cell_type": "code",
   "execution_count": null,
   "id": "4d172382",
   "metadata": {},
   "outputs": [],
   "source": [
    "#Cоздание таблиц в БД\n",
    "db = AddingDataPsycopg()\n",
    "for table in ['curricula_vitae', 'workexp', 'vacancies', 'professions', 'industries', 'regions']:\n",
    "    db.create_table(table, 'project_trudvsem') #'project_trudvsem' - название схемы в вашей БД\n",
    "    \n",
    "db.conn.close()"
   ]
  },
  {
   "cell_type": "markdown",
   "id": "15a975c7",
   "metadata": {},
   "source": [
    "Взять ссылки на файлы с данными с ftp поратала https://opendata.trudvsem.ru/oda2Hialoephidohyie1oR6chaem1oN0quiephooleiWei1aiD/:\n",
    "\n",
    "Из директорий\n",
    "https://opendata.trudvsem.ru/oda2Hialoephidohyie1oR6chaem1oN0quiephooleiWei1aiD/7710538364-cv/\n",
    "https://opendata.trudvsem.ru/oda2Hialoephidohyie1oR6chaem1oN0quiephooleiWei1aiD/7710538364-vacancy/ нужно выбрать подходящие файлы (имеющие в наименовании дату) - один файл резюме и один вакансий.\n",
    "\n",
    "Подобным образом выбрать ссылки для данных о профессиях, сферах занятости, регионах из соответствующих директорий:\n",
    "https://opendata.trudvsem.ru/oda2Hialoephidohyie1oR6chaem1oN0quiephooleiWei1aiD/7710538364-professions/ \n",
    "https://opendata.trudvsem.ru/oda2Hialoephidohyie1oR6chaem1oN0quiephooleiWei1aiD/7710538364-industries/\n",
    "https://opendata.trudvsem.ru/oda2Hialoephidohyie1oR6chaem1oN0quiephooleiWei1aiD/7710538364-regions/\n",
    "\n",
    "Для каждого типа, вставив нужную ссылку, запустить следующие ячейки:\n",
    "В примере: тип \"резюме\" и самый первый файл резюме 2018г. Необходимо поменять ссылку на наиболее актуальный файл."
   ]
  },
  {
   "cell_type": "code",
   "execution_count": null,
   "id": "a22f3ebf",
   "metadata": {},
   "outputs": [],
   "source": [
    "#создать экземпляр класса с нужными параметрами: \n",
    "#указать тип файла ('cvs' для резюме), \n",
    "#а также путь к тому xml-файлу, который содержит нужные данные\n",
    "#ссылку ниже необходимо заменить\n",
    "ren = Renewal('cvs', 'https://opendata.trudvsem.ru/oda2Hialoephidohyie1oR6chaem1oN0quiephooleiWei1aiD/7710538364-cv/data-20180102T024002-structure-20161130T143000.xml.gz')\n",
    "\n",
    "#последовательно вызываются функции для скачивания, парсинга, обработки, загрузки в БД и удаления первоначальных файлов\n",
    "ren.download()\n",
    "ren.parse_update()\n",
    "ren.delete()\n",
    "\n",
    "#данные об опыте работы, в таблицу workexp будут также загружены при выполнении этой ячейки"
   ]
  },
  {
   "cell_type": "code",
   "execution_count": null,
   "id": "76ae6437",
   "metadata": {},
   "outputs": [],
   "source": [
    "#вставьте правильную ссылку \n",
    "ren = Renewal('vacancies', '')\n",
    "ren.download()\n",
    "ren.parse_update()\n",
    "ren.delete()"
   ]
  },
  {
   "cell_type": "code",
   "execution_count": null,
   "id": "0b36b021",
   "metadata": {},
   "outputs": [],
   "source": [
    "#вставьте правильную ссылку \n",
    "ren = Renewal('professions', '')\n",
    "ren.download()\n",
    "ren.parse_update()\n",
    "ren.delete()"
   ]
  },
  {
   "cell_type": "code",
   "execution_count": null,
   "id": "a51cef2f",
   "metadata": {},
   "outputs": [],
   "source": [
    "#вставьте правильную ссылку \n",
    "ren = Renewal('industries', '')\n",
    "ren.download()\n",
    "ren.parse_update()\n",
    "ren.delete()"
   ]
  },
  {
   "cell_type": "code",
   "execution_count": null,
   "id": "a3c459e4",
   "metadata": {},
   "outputs": [],
   "source": [
    "#вставьте правильную ссылку \n",
    "ren = Renewal('regions', '')\n",
    "ren.download()\n",
    "ren.parse_update()\n",
    "ren.delete()"
   ]
  },
  {
   "cell_type": "markdown",
   "id": "8f5d4994",
   "metadata": {},
   "source": [
    "## Обучение модели"
   ]
  },
  {
   "cell_type": "code",
   "execution_count": null,
   "id": "8af51489",
   "metadata": {},
   "outputs": [],
   "source": [
    "\"\"\"Создаем новые таблицы лемм вакансий и резюме для матчинга\n",
    "(Для первой загрузки записей в таблицы для матчинга и обучения модели)\"\"\"\n",
    "db = AddingDataPsycopg()\n",
    "db.create_table('for_matching_cv', 'project_trudvsem') #'project_trudvsem' название вашей схемы в БД\n",
    "db.create_table('for_matching_vac', 'project_trudvsem') #'project_trudvsem' название вашей схемы в БД\n",
    "id_cv_list = []\n",
    "id_vac_list = []\n",
    "\n",
    "\"\"\"Получаем новые записи, которых нет в таблицах для матчинга\"\"\"\n",
    "db = AddingDataPsycopg()\n",
    "df_cv = db.get_table_as_df_join('curricula_vitae', 'get_df_join')\n",
    "df_vac = db.get_table_as_df_join('vacancies', 'get_df_join')\n",
    "\n",
    "\"\"\"Подготавливаем записи для загрузки в таблицы для матчинга\"\"\"\n",
    "prepare_cv = PrepareData(russian_stopwords_and_demands, w2v_model)\n",
    "prepare_vac = PrepareData(russian_stopwords_and_respons, w2v_model)\n",
    "df_cv = prepare_cv.prepare_df(df_cv, id_cv_list, 'curricula_vitae')\n",
    "df_vac = prepare_vac.prepare_df(df_vac, id_vac_list, 'vacancies')\n",
    "\n",
    "\"\"\"Загружаем новые записи в таблицы для матчинга\"\"\"\n",
    "db.write_to_sql(df_cv, 'for_matching_cv', 'project_trudvsem') #'project_trudvsem' название вашей схемы в БД\n",
    "db.write_to_sql(df_vac, 'for_matching_vac', 'project_trudvsem') #'project_trudvsem' название вашей схемы в БД\n",
    "\n",
    "\"\"\"Обучение модели\"\"\"\n",
    "text_lemmas = prepare_vac.lemmas_to_list(df_cv, df_vac)\n",
    "prepare_vac.train_model(text_lemmas)"
   ]
  },
  {
   "cell_type": "markdown",
   "id": "c6c1657d",
   "metadata": {},
   "source": [
    "## Повторное обучение модели"
   ]
  },
  {
   "cell_type": "code",
   "execution_count": null,
   "id": "b2500921",
   "metadata": {},
   "outputs": [],
   "source": [
    "\"\"\"Получаем новые записи, которых нет в таблицах для матчинга\"\"\"\n",
    "db = AddingDataPsycopg()\n",
    "df_cv = db.get_table_as_df_join('curricula_vitae', 'get_df_join')\n",
    "df_vac = db.get_table_as_df_join('vacancies', 'get_df_join')\n",
    "\n",
    "\"\"\"Шаг для загрузки лемм записей в таблицы для матчинга\"\"\"\n",
    "df = db.get_table_as_df('identifier', 'for_matching_cv', 'project_trudvsem') #'project_trudvsem' название вашей схемы в БД\n",
    "id_cv_list = df['identifier'].tolist()\n",
    "df = db.get_table_as_df('identifier', 'for_matching_vac', 'project_trudvsem') #'project_trudvsem' название вашей схемы в БД\n",
    "id_vac_list = df['identifier'].tolist()\n",
    "\n",
    "\"\"\"Подготавливаем записи для загрузки в таблицы для матчинга\"\"\"\n",
    "prepare_cv = PrepareData(russian_stopwords_and_demands, w2v_model)\n",
    "prepare_vac = PrepareData(russian_stopwords_and_respons, w2v_model)\n",
    "df_cv = prepare_cv.prepare_df(df_cv, id_cv_list, 'curricula_vitae')\n",
    "df_vac = prepare_vac.prepare_df(df_vac, id_vac_list, 'vacancies')\n",
    "\n",
    "\"\"\"Загружаем новые записи в таблицы для матчинга\"\"\"\n",
    "db.write_to_sql(df_cv, 'for_matching_cv', 'project_trudvsem') #'project_trudvsem' название вашей схемы в БД\n",
    "db.write_to_sql(df_vac, 'for_matching_vac', 'project_trudvsem') #'project_trudvsem' название вашей схемы в БД\n",
    "\n",
    "\"\"\"Удаляем не актуальные записи, которых нет в исходных таблицах резюме и вакансий\"\"\"\n",
    "db.delete_strings('identifier', 'id_cv', 'for_matching_cv', 'curricula_vitae', 'project_trudvsem') #'project_trudvsem' название вашей схемы в БД\n",
    "db.delete_strings('identifier', 'identifier', 'for_matching_vac', 'vacancies', 'project_trudvsem') #'project_trudvsem' название вашей схемы в БД\n",
    "db.conn.close()\n",
    "\n",
    "\"\"\"Проверяем количество обновленных записей и дообучаем модель при условии большого объема \n",
    "новых записей(если загрузка первичная пропускаем)\"\"\"\n",
    "print('Строк в таблице резюме ' + str(len(id_cv_list)) + ' добавлено строк ' + str(df_cv.shape[0]))\n",
    "print('Строк в таблице вакансий ' + str(len(id_vac_list)) + ' добавлено строк ' + str(df_vac.shape[0]))\n",
    "if (len(id_cv_list) + len(id_vac_list)) == 0:\n",
    "    print('Дообучение модели не требуется')\n",
    "else:\n",
    "    difference = ((df_cv.shape[0] + df_vac.shape[0]) / (len(id_cv_list) + len(id_vac_list)))\n",
    "    if difference <= 0.4:\n",
    "        print('Дообучение модели не требуется:', difference)\n",
    "    else:\n",
    "        text_lemmas = prepare_vac.lemmas_to_list(df_cv, df_vac)\n",
    "        prepare_vac.retrain_model(text_lemmas)"
   ]
  },
  {
   "cell_type": "markdown",
   "id": "2643799c",
   "metadata": {},
   "source": [
    "## Процедура подбора резюме и вакансий"
   ]
  },
  {
   "cell_type": "code",
   "execution_count": null,
   "id": "d98a5c06",
   "metadata": {},
   "outputs": [],
   "source": [
    "\"\"\"Загружаем предобученную модель и  стандар скеллер для фич\"\"\"\n",
    "w2v_model = Word2Vec.load('w2v_model_retrain.model')\n",
    "w2v_model.init_sims(replace = True)\n",
    "scaler = pickle.load(open('rostrud_ml/matching/text_matching/scaler_short.pkl','rb'))\n",
    "similarity = CosineSimilarityW2v(w2v_model, scaler)\n",
    "\n",
    "\"\"\"Подберем вакансии для резюме, указываем id резюме\n",
    "и количество вакансий для вывода\n",
    "ВАРИАНТ чистовой  с выводом строчек резюме и вакансий\"\"\"\n",
    "matching = MatchingData(10, similarity)\n",
    "df_cv, df_vac = matching.trudvsem_profile_w2v_to_df_cv('00624890-fc26-11eb-81cd-6db06c9eaf56')\n",
    "print(df_cv)\n",
    "print(df_vac) \n",
    "\n",
    "\"\"\"Подберем резюме для вакансии, указываем id вакансии\n",
    "и количество резюме для вывода\n",
    "ВАРИАНТ чистовой с выводом строчек резюме и вакансий\"\"\"\n",
    "df_vac, df_cv = matching.trudvsem_profile_w2v_to_df_vac('00118432-3152-11ec-a785-bf2cfe8c828d')\n",
    "print(df_vac)\n",
    "print(df_cv) "
   ]
  }
 ],
 "metadata": {
  "kernelspec": {
   "display_name": "Python 3 (ipykernel)",
   "language": "python",
   "name": "python3"
  },
  "language_info": {
   "codemirror_mode": {
    "name": "ipython",
    "version": 3
   },
   "file_extension": ".py",
   "mimetype": "text/x-python",
   "name": "python",
   "nbconvert_exporter": "python",
   "pygments_lexer": "ipython3",
   "version": "3.9.7"
  }
 },
 "nbformat": 4,
 "nbformat_minor": 5
}
