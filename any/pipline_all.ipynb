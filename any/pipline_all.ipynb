{
  "cells": [
    {
      "cell_type": "markdown",
      "id": "01c20a63",
      "metadata": {
        "id": "01c20a63"
      },
      "source": [
        "# Работа модели для матчинга резюме и вакансий портала \"Работа в России\":"
      ]
    },
    {
      "cell_type": "code",
      "execution_count": null,
      "id": "a9d6301b",
      "metadata": {
        "colab": {
          "base_uri": "https://localhost:8080/"
        },
        "id": "a9d6301b",
        "outputId": "a0092a95-d9d5-44ad-8453-efaba1c4a80e"
      },
      "outputs": [
        {
          "output_type": "stream",
          "name": "stderr",
          "text": [
            "Cloning into 'rostrud_ml'...\n"
          ]
        }
      ],
      "source": [
        "#Установим библиотеку, разработанную ЦПУР\n",
        "#jupyter notebook --NotebookApp.allow_origin='https://colab.research.google.com' --port=8899 --NotebookApp.port_retries=0\n",
        "!git clone https://github.com/ellariel/rostrud_ml.git"
      ]
    },
    {
      "cell_type": "markdown",
      "id": "cc746f61",
      "metadata": {
        "id": "cc746f61"
      },
      "source": [
        "После скачивания корневая папка должна быть переименована в rostrud_ml"
      ]
    },
    {
      "cell_type": "markdown",
      "id": "e9893baf",
      "metadata": {
        "id": "e9893baf"
      },
      "source": [
        "## Предварительные действия\n",
        "У этого скрипта есть несколько зависимостей, их можно поставить через pip. При запуске блока кода ниже всё поставится само.\n",
        "\n",
        "Если в какой-то момент выполнения кода вы увидите ошибку, что вам не хватает некого питоновского пакета, вы можете дописать его название в новую строчку файла requirements.txt и снова запустить этот блок."
      ]
    },
    {
      "cell_type": "code",
      "execution_count": null,
      "id": "c3c948e7",
      "metadata": {
        "id": "c3c948e7"
      },
      "outputs": [],
      "source": [
        "#Установка окружения\n",
        "!pip install -r rostrud_ml/requirements.txt"
      ]
    },
    {
      "cell_type": "markdown",
      "id": "11516604",
      "metadata": {
        "id": "11516604"
      },
      "source": [
        "В файле rostrud_ml/utils/all_tables_names.yml указать путь к директории, куда будут скачиваться и парситься файлы с резюме, вакансиями (сейчас там \"workdir\")."
      ]
    },
    {
      "cell_type": "markdown",
      "id": "a3457e30",
      "metadata": {
        "id": "a3457e30"
      },
      "source": [
        "В файле rostrud-ml/utils/config_to_bd_example.yml указать ваши настройки для подключения к БД и поменять название файла на config_to_bd.yml"
      ]
    },
    {
      "cell_type": "code",
      "source": [
        "import requests\n",
        "from tqdm import tqdm\n",
        "import pandas as pd"
      ],
      "metadata": {
        "id": "XCB4dbebkak0"
      },
      "id": "XCB4dbebkak0",
      "execution_count": 1,
      "outputs": []
    },
    {
      "cell_type": "code",
      "source": [
        "base_url = 'https://opendata.trudvsem.ru/oda2Hialoephidohyie1oR6chaem1oN0quiephooleiWei1aiD/'\n",
        "file_url = ['7710538364-cv/', '7710538364-professions/', '7710538364-regions/', '7710538364-industries/', '7710538364-vacancy/', '7710538364-invitation/']"
      ],
      "metadata": {
        "id": "ZBPp8gi_kana"
      },
      "id": "ZBPp8gi_kana",
      "execution_count": 2,
      "outputs": []
    },
    {
      "cell_type": "code",
      "source": [
        "# last file in each month\n",
        "def _getfileslist(url):\n",
        "  r = requests.get(url)\n",
        "  return ['data' + i.split('\">data')[0] for i in r.text.split('<a href=\"data')[1:]]\n",
        "\n",
        "s = pd.DataFrame(_getfileslist(base_url + file_url[0])).rename(columns={0: 'cv'})\n",
        "s = s[s['cv'].apply(lambda x: pd.notna(x) and '.gz' in x)]\n",
        "s = s[s['cv'].apply(lambda x: int(x.split('data-')[1][:4]) >= 2019)]\n",
        "s['month'] = s['cv'].apply(lambda x: x.split('data-')[1][:6])\n",
        "s = s.groupby('month').agg('last').reset_index()\n",
        "for l in file_url[1:]:\n",
        "    c = l.split('-')[1]\n",
        "    c = c[:len(c)-1]\n",
        "    v = pd.DataFrame(pd.Series(_getfileslist(base_url + l)).rename(c))\n",
        "    v = v[v[c].apply(lambda x: pd.notna(x) and '.gz' in x)]\n",
        "    v = v[v[c].apply(lambda x: int(x.split('data-')[1][:4]) >= 2019)]\n",
        "    v['month'] = v[c].apply(lambda x: x.split('data-')[1][:6])\n",
        "    v = v.groupby('month').agg('last').reset_index()\n",
        "    s = s.set_index('month').join(v.set_index('month')).reset_index()\n",
        "s.to_csv('filtered_month.csv', index=False)\n",
        "\n",
        "# all files\n",
        "s = pd.DataFrame(_getfileslist(base_url + file_url[0])).rename(columns={0: 'cv'})\n",
        "s = s[s['cv'].apply(lambda x: pd.notna(x) and '.gz' in x)]\n",
        "s = s[s['cv'].apply(lambda x: int(x.split('data-')[1][:4]) >= 2019)]\n",
        "s['date'] = s['cv'].apply(lambda x: x.split('data-')[1][:8])\n",
        "s = s.groupby('date').agg('last').reset_index()\n",
        "for l in file_url[1:]:\n",
        "    c = l.split('-')[1]\n",
        "    c = c[:len(c)-1]\n",
        "    v = pd.DataFrame(pd.Series(_getfileslist(base_url + l)).rename(c))\n",
        "    v = v[v[c].apply(lambda x: pd.notna(x) and '.gz' in x)]\n",
        "    v = v[v[c].apply(lambda x: int(x.split('data-')[1][:4]) >= 2019)]\n",
        "    v['date'] = v[c].apply(lambda x: x.split('data-')[1][:8])\n",
        "    v = v.groupby('date').agg('last').reset_index()\n",
        "    s = s.set_index('date').join(v.set_index('date')).reset_index()\n",
        "s.to_csv('filtered_all.csv', index=False)"
      ],
      "metadata": {
        "id": "flP7bvY3lZ6x"
      },
      "id": "flP7bvY3lZ6x",
      "execution_count": null,
      "outputs": []
    },
    {
      "cell_type": "code",
      "source": [],
      "metadata": {
        "id": "3SxohJL16vCr"
      },
      "id": "3SxohJL16vCr",
      "execution_count": null,
      "outputs": []
    },
    {
      "cell_type": "markdown",
      "id": "87b7c9a8",
      "metadata": {
        "id": "87b7c9a8"
      },
      "source": [
        "## Загрузка в БД необходимых данных"
      ]
    },
    {
      "cell_type": "code",
      "source": [
        "filtered = pd.read_csv('filtered_all.csv') #список ссылок полученный на прошлом этапе\n",
        "len(filtered)"
      ],
      "metadata": {
        "colab": {
          "base_uri": "https://localhost:8080/"
        },
        "id": "FMpzJnaI6ySC",
        "outputId": "ba2a98da-abea-4ceb-b3ec-463555806448"
      },
      "id": "FMpzJnaI6ySC",
      "execution_count": 4,
      "outputs": [
        {
          "output_type": "execute_result",
          "data": {
            "text/plain": [
              "56"
            ]
          },
          "metadata": {},
          "execution_count": 4
        }
      ]
    },
    {
      "cell_type": "code",
      "execution_count": 5,
      "id": "988f6f3d",
      "metadata": {
        "colab": {
          "base_uri": "https://localhost:8080/"
        },
        "id": "988f6f3d",
        "outputId": "483ca1c2-f84b-485d-d703-4f87e15ee2f1"
      },
      "outputs": [
        {
          "output_type": "stream",
          "name": "stdout",
          "text": [
            "Вы подключены к базе: postgres\n"
          ]
        }
      ],
      "source": [
        "#Установка модулей\n",
        "from rostrud_ml.process.adding_tables_psycopg import AddingDataPsycopg\n",
        "from rostrud_ml.process.renewal import Renewal"
      ]
    },
    {
      "cell_type": "code",
      "execution_count": 6,
      "id": "4d172382",
      "metadata": {
        "colab": {
          "base_uri": "https://localhost:8080/"
        },
        "id": "4d172382",
        "outputId": "aaf59baa-2b79-4f53-8e6c-7bc1463020dd"
      },
      "outputs": [
        {
          "output_type": "stream",
          "name": "stdout",
          "text": [
            "Вы подключены к базе: postgres\n"
          ]
        }
      ],
      "source": [
        "#Cоздание таблиц в БД\n",
        "db = AddingDataPsycopg()\n",
        "for table in ['curricula_vitae', 'workexp', 'vacancies', 'professions', 'industries', 'regions', 'invitations']:\n",
        "    db.create_table(table, 'project_trudvsem') #'project_trudvsem' - название схемы в вашей БД, создать, если нету\n",
        "db.conn.close()"
      ]
    },
    {
      "cell_type": "markdown",
      "id": "15a975c7",
      "metadata": {
        "id": "15a975c7"
      },
      "source": [
        "Взять ссылки на файлы с данными с ftp поратала https://opendata.trudvsem.ru/oda2Hialoephidohyie1oR6chaem1oN0quiephooleiWei1aiD/:\n",
        "\n",
        "Из директорий\n",
        "https://opendata.trudvsem.ru/oda2Hialoephidohyie1oR6chaem1oN0quiephooleiWei1aiD/7710538364-cv/\n",
        "https://opendata.trudvsem.ru/oda2Hialoephidohyie1oR6chaem1oN0quiephooleiWei1aiD/7710538364-vacancy/ нужно выбрать подходящие файлы (имеющие в наименовании дату) - один файл резюме и один вакансий.\n",
        "\n",
        "Подобным образом выбрать ссылки для данных о профессиях, сферах занятости, регионах из соответствующих директорий:\n",
        "https://opendata.trudvsem.ru/oda2Hialoephidohyie1oR6chaem1oN0quiephooleiWei1aiD/7710538364-professions/\n",
        "https://opendata.trudvsem.ru/oda2Hialoephidohyie1oR6chaem1oN0quiephooleiWei1aiD/7710538364-industries/\n",
        "https://opendata.trudvsem.ru/oda2Hialoephidohyie1oR6chaem1oN0quiephooleiWei1aiD/7710538364-regions/\n",
        "\n",
        "Для каждого типа, вставив нужную ссылку, запустить следующие ячейки:\n",
        "В примере: тип \"резюме\" и самый первый файл резюме 2018г. Необходимо поменять ссылку на наиболее актуальный файл."
      ]
    },
    {
      "cell_type": "code",
      "source": [
        "filtered.tail(1)"
      ],
      "metadata": {
        "colab": {
          "base_uri": "https://localhost:8080/",
          "height": 98
        },
        "id": "-oV9abLbscTk",
        "outputId": "5326bbbb-07aa-47b5-fa71-65ed6be9fb71"
      },
      "id": "-oV9abLbscTk",
      "execution_count": 7,
      "outputs": [
        {
          "output_type": "execute_result",
          "data": {
            "text/plain": [
              "     month                                                 cv  \\\n",
              "55  202308  data-20230830T053225-structure-20161130T143000...   \n",
              "\n",
              "                                          professions  \\\n",
              "55  data-20230831T081254-structure-20161130T143000...   \n",
              "\n",
              "                                              regions  \\\n",
              "55  data-20230831T081254-structure-20161130T143000...   \n",
              "\n",
              "                                           industries  \\\n",
              "55  data-20230831T081254-structure-20161130T143000...   \n",
              "\n",
              "                                              vacancy  \\\n",
              "55  data-20230830T214915-structure-20161130T143000...   \n",
              "\n",
              "                                           invitation  \n",
              "55  data-20230831T093831-structure-20161130T143000...  "
            ],
            "text/html": [
              "<div>\n",
              "<style scoped>\n",
              "    .dataframe tbody tr th:only-of-type {\n",
              "        vertical-align: middle;\n",
              "    }\n",
              "\n",
              "    .dataframe tbody tr th {\n",
              "        vertical-align: top;\n",
              "    }\n",
              "\n",
              "    .dataframe thead th {\n",
              "        text-align: right;\n",
              "    }\n",
              "</style>\n",
              "<table border=\"1\" class=\"dataframe\">\n",
              "  <thead>\n",
              "    <tr style=\"text-align: right;\">\n",
              "      <th></th>\n",
              "      <th>month</th>\n",
              "      <th>cv</th>\n",
              "      <th>professions</th>\n",
              "      <th>regions</th>\n",
              "      <th>industries</th>\n",
              "      <th>vacancy</th>\n",
              "      <th>invitation</th>\n",
              "    </tr>\n",
              "  </thead>\n",
              "  <tbody>\n",
              "    <tr>\n",
              "      <th>55</th>\n",
              "      <td>202308</td>\n",
              "      <td>data-20230830T053225-structure-20161130T143000...</td>\n",
              "      <td>data-20230831T081254-structure-20161130T143000...</td>\n",
              "      <td>data-20230831T081254-structure-20161130T143000...</td>\n",
              "      <td>data-20230831T081254-structure-20161130T143000...</td>\n",
              "      <td>data-20230830T214915-structure-20161130T143000...</td>\n",
              "      <td>data-20230831T093831-structure-20161130T143000...</td>\n",
              "    </tr>\n",
              "  </tbody>\n",
              "</table>\n",
              "</div>"
            ]
          },
          "metadata": {},
          "execution_count": 7
        }
      ]
    },
    {
      "cell_type": "code",
      "source": [
        "for _, link in tqdm(filtered.iterrows(), total=len(filtered)):\n",
        "  if int(link['month']) < 202107:\n",
        "    continue\n",
        "  try:\n",
        "    print('cv')\n",
        "    ren = Renewal('cvs', base_url + file_url[0] + link['cv'])\n",
        "    ren.download()\n",
        "    ren.extract()\n",
        "    ren.parse_update()\n",
        "  except Exception as e:\n",
        "    print(f'cvs error: {e}')\n",
        "  ren.delete(remove_gz=True)\n",
        "\n",
        "  if pd.notna(link['vacancy']):\n",
        "    try:\n",
        "      print('vacancies')\n",
        "      ren = Renewal('vacancies', base_url + file_url[4] + link['vacancy'])\n",
        "      ren.download()\n",
        "      ren.extract()\n",
        "      ren.parse_update()\n",
        "    except Exception as e:\n",
        "      print(f'vacancies error: {e}')\n",
        "    ren.delete(remove_gz=True)\n",
        "\n",
        "  if pd.notna(link['invitation']):\n",
        "    try:\n",
        "      print('invitations')\n",
        "      ren = Renewal('invitations', base_url + file_url[5] + link['invitation'])\n",
        "      ren.download()\n",
        "      ren.extract()\n",
        "      ren.parse_update()\n",
        "    except Exception as e:\n",
        "      print(f'invitations error: {e}')\n",
        "    ren.delete(remove_gz=True)\n",
        "\n",
        "  #try:\n",
        "  #  print('professions')\n",
        "  #  ren = Renewal('professions', base_url + file_url[1] + link['professions'])\n",
        "  #  ren.download()\n",
        "  #  ren.extract()\n",
        "  #  ren.parse_update()\n",
        "  #except Exception as e:\n",
        "  #  print(f'professions error: {e}')\n",
        "  #ren.delete(remove_gz=False)\n",
        "\n",
        "  #try:\n",
        "  #  print('industries')\n",
        "  #  ren = Renewal('industries', base_url + file_url[2] + link['regions'])\n",
        "  #  ren.download()\n",
        "  #  ren.extract()\n",
        "  #  ren.parse_update()\n",
        "  #except Exception as e:\n",
        "  #  print('industries error')\n",
        "  #ren.delete(remove_gz=False)\n",
        "\n",
        "  #try:\n",
        "  #  print('regions')\n",
        "  #  ren = Renewal('regions', base_url + file_url[3] + link['industries'])\n",
        "  #  ren.download()\n",
        "  #  ren.extract()\n",
        "  #  ren.parse_update()\n",
        "  #except Exception as e:\n",
        "  #  print('regions error')\n",
        "  #ren.delete(remove_gz=False)\n",
        "\n",
        "  #break"
      ],
      "metadata": {
        "colab": {
          "base_uri": "https://localhost:8080/"
        },
        "id": "Uly_t5GpvGmd",
        "outputId": "9210af71-53cf-4977-a6d2-f5c62933211a"
      },
      "id": "Uly_t5GpvGmd",
      "execution_count": null,
      "outputs": [
        {
          "output_type": "stream",
          "name": "stderr",
          "text": [
            "\r  0%|                                                                                           | 0/56 [00:00<?, ?it/s]"
          ]
        },
        {
          "output_type": "stream",
          "name": "stdout",
          "text": [
            "cv\n",
            "Файлы скачаны: 2021-07-31\n",
            "Файлы извлечены: 2021-07-31\n",
            "Вы подключены к базе: postgres\n",
            "return hashes\n",
            "df резюме готов\n",
            "curricula_vitae : обработано\n",
            "Вы подключены к базе: postgres\n"
          ]
        }
      ]
    },
    {
      "cell_type": "code",
      "source": [],
      "metadata": {
        "id": "qsvJP-3mvGrD"
      },
      "id": "qsvJP-3mvGrD",
      "execution_count": null,
      "outputs": []
    },
    {
      "cell_type": "code",
      "source": [],
      "metadata": {
        "id": "yxRaXgCSvGuV"
      },
      "id": "yxRaXgCSvGuV",
      "execution_count": null,
      "outputs": []
    }
  ],
  "metadata": {
    "kernelspec": {
      "display_name": "Python 3 (ipykernel)",
      "language": "python",
      "name": "python3"
    },
    "language_info": {
      "codemirror_mode": {
        "name": "ipython",
        "version": 3
      },
      "file_extension": ".py",
      "mimetype": "text/x-python",
      "name": "python",
      "nbconvert_exporter": "python",
      "pygments_lexer": "ipython3",
      "version": "3.9.7"
    },
    "colab": {
      "provenance": []
    }
  },
  "nbformat": 4,
  "nbformat_minor": 5
}