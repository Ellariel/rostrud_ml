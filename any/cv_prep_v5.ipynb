{
  "nbformat": 4,
  "nbformat_minor": 0,
  "metadata": {
    "colab": {
      "provenance": [],
      "collapsed_sections": [
        "5Z-gKYYdBREy",
        "Qgz_7Jk7IjWW",
        "sdmggqxyRGMk"
      ]
    },
    "kernelspec": {
      "name": "python3",
      "display_name": "Python 3"
    },
    "language_info": {
      "name": "python"
    }
  },
  "cells": [
    {
      "cell_type": "code",
      "execution_count": null,
      "metadata": {
        "id": "mz8h9LjCoFp2"
      },
      "outputs": [],
      "source": [
        "# pip install --upgrade jupyter_http_over_ws>=0.0.7 && jupyter serverextension enable --py jupyter_http_over_ws\n",
        "# jupyter notebook --NotebookApp.allow_origin='https://colab.research.google.com' --port=8899 --NotebookApp.port_retries=0\n",
        "# https://www.data-in.ru/data-catalog/datasets/186/ # 01.01.2018 — 30.10.2021\n",
        "# https://trudvsem.ru/opendata/datasets # 03.11.2022, 01.02.23"
      ]
    },
    {
      "cell_type": "code",
      "source": [
        "import pandas as pd\n",
        "import pickle, os\n",
        "import numpy as np\n",
        "import datetime as dt\n",
        "from tqdm import tqdm\n",
        "import plotly.express as px\n",
        "import plotly.graph_objects as go\n",
        "import matplotlib.pyplot as plt\n",
        "import seaborn as sns, re\n",
        "from zipfile import ZipFile as zp\n",
        "from scipy.stats import kurtosis"
      ],
      "metadata": {
        "id": "rEjsMNsSpFlP"
      },
      "execution_count": null,
      "outputs": []
    },
    {
      "cell_type": "code",
      "source": [
        "base_dir = './'\n",
        "#_dataset_date = '03.11.2022'\n",
        "_dataset_date = '29.12.2022'\n",
        "#_dataset_date = '08.08.2023'\n",
        "_start_from_date = '2019-01-01'\n",
        "_keep_cols = ['id', 'state_region_code', 'id_candidate', 'date_create', 'date_modify', 'published_date',\n",
        "              'education', 'academic_degree', 'experience', 'salary', 'professional_skills', 'desirableRelocationRegions', 'busy_type', 'business_trip', 'languageKnowledge']"
      ],
      "metadata": {
        "id": "yPowug4h-V30"
      },
      "execution_count": null,
      "outputs": []
    },
    {
      "cell_type": "code",
      "source": [
        "d = pd.read_csv(os.path.join(base_dir, f'cv_raw_{_dataset_date}.csv'), sep='|', dtype='str', nrows=10, on_bad_lines=None)\n",
        "COLSEPNUM = len(d.columns.to_list()) - 1\n",
        "print(f'{_dataset_date} columns count: {COLSEPNUM}')"
      ],
      "metadata": {
        "colab": {
          "base_uri": "https://localhost:8080/"
        },
        "id": "iwf14YI-UThe",
        "outputId": "b104be74-6b43-4839-f1c5-6814f60c9fb3"
      },
      "execution_count": null,
      "outputs": [
        {
          "output_type": "stream",
          "name": "stdout",
          "text": [
            "29.12.2022 columns count: 43\n"
          ]
        }
      ]
    },
    {
      "cell_type": "code",
      "source": [
        "d.columns"
      ],
      "metadata": {
        "colab": {
          "base_uri": "https://localhost:8080/"
        },
        "id": "HYagCqFkYj8I",
        "outputId": "770e0227-4705-461b-f2bc-813ba36d891a"
      },
      "execution_count": null,
      "outputs": [
        {
          "output_type": "execute_result",
          "data": {
            "text/plain": [
              "Index(['id', 'abilympics_inspection_status', 'abilympics_participation',\n",
              "       'worldskills_inspection_status', 'state_region_code', 'regionNameTerm',\n",
              "       'position_name', 'date_create', 'date_modify', 'home_city_code',\n",
              "       'education', 'academic_degree', 'drive_license', 'code_country',\n",
              "       'nark_inspection_status', 'nark_certificate', 'published_date',\n",
              "       'schedule_type', 'experience', 'salary', 'professional_skills',\n",
              "       'add_skills', 'busy_type', 'business_trip', 'id_candidate',\n",
              "       'other_certificates', 'retraining_capability', 'other_info', 'id_user',\n",
              "       'publication_period', 'rf_citizen', 'status', 'visibility',\n",
              "       'code_external_system', 'deleted', 'fullness_rate', 'professionList',\n",
              "       'workExperienceList', 'educationList', 'additionalEducationList',\n",
              "       'desirableRelocationRegions', 'contactList', 'worldskills',\n",
              "       'languageKnowledge'],\n",
              "      dtype='object')"
            ]
          },
          "metadata": {},
          "execution_count": 21
        }
      ]
    },
    {
      "cell_type": "markdown",
      "source": [
        "### fix"
      ],
      "metadata": {
        "id": "5Z-gKYYdBREy"
      }
    },
    {
      "cell_type": "code",
      "source": [
        "def fix_dashes(s):\n",
        "    nbs = r'(\\[[^\\[\\]]+\\])'\n",
        "    pattern = re.compile(nbs)\n",
        "    s = s.replace(r'|</p>', '</p>')\n",
        "    s = s.replace(r'|&nbsp;', '&nbsp;')\n",
        "    s = s.replace(r'Htm|', 'HTML')\n",
        "    for m in pattern.finditer(s):\n",
        "      s = s[:m.start()]+s[m.start():m.end()].replace('|', ' ')+s[m.end():]\n",
        "    if s.count('|') != COLSEPNUM:\n",
        "      s = s.replace(r'-|-', '-')\n",
        "#    if s.count('|') != COLSEPNUM:\n",
        "#      s = '|'*43\n",
        "    return s\n",
        "\n",
        "def fix_data(date):\n",
        "  bad_lines_count = 0\n",
        "  counter = 0\n",
        "  with open(os.path.join(base_dir, f'cv_raw_{date}_fixed.csv'), 'wt', encoding='utf-8') as f0:\n",
        "    with open(os.path.join(base_dir, f'cv_raw_{date}_bad.csv'), 'wt', encoding='utf-8') as f2:\n",
        "      with open(os.path.join(base_dir, f'cv_raw_{date}.csv'), 'rt', encoding='utf-8') as f1:\n",
        "        for raw in tqdm(f1):\n",
        "          counter += 1\n",
        "          c_raw = raw.count('|')\n",
        "          if c_raw == COLSEPNUM:\n",
        "            f0.write(raw)\n",
        "          else:\n",
        "            fix = fix_dashes(raw)\n",
        "            c_fix = fix.count('|')\n",
        "            if c_fix == COLSEPNUM:\n",
        "              f0.write(fix)\n",
        "            else:\n",
        "              bad_lines_count += 1\n",
        "              f2.write(raw)\n",
        "  print(f'lines: {counter}, bad lines rate: {bad_lines_count / counter}')"
      ],
      "metadata": {
        "id": "0qDSICVrbpTE"
      },
      "execution_count": null,
      "outputs": []
    },
    {
      "cell_type": "code",
      "source": [
        "fix_data(_dataset_date)"
      ],
      "metadata": {
        "colab": {
          "base_uri": "https://localhost:8080/"
        },
        "id": "3Mt-1SxFYcnp",
        "outputId": "1dfda01d-c2fb-4636-dfdf-002b265fba84"
      },
      "execution_count": null,
      "outputs": [
        {
          "output_type": "stream",
          "name": "stderr",
          "text": [
            "1240600it [01:37, 12741.22it/s]"
          ]
        },
        {
          "output_type": "stream",
          "name": "stdout",
          "text": [
            "lines: 1240600, bad lines rate: 8.544252780912461e-05\n"
          ]
        },
        {
          "output_type": "stream",
          "name": "stderr",
          "text": [
            "\n"
          ]
        }
      ]
    },
    {
      "cell_type": "markdown",
      "source": [
        "### tudy"
      ],
      "metadata": {
        "id": "Qgz_7Jk7IjWW"
      }
    },
    {
      "cell_type": "code",
      "source": [
        "def localize(x):\n",
        "  try:\n",
        "    return pd.to_datetime(x).tz_localize(None)\n",
        "  except:\n",
        "    return np.nan\n",
        "\n",
        "def truncate_data(date):\n",
        "    df = None\n",
        "    r = pd.read_csv(os.path.join(base_dir, f'regions.csv'), sep=';', dtype='str')\n",
        "    chunksize = 10 ** 6\n",
        "    with pd.read_csv(os.path.join(base_dir, f'cv_raw_{date}_fixed.csv'), sep='|', dtype='str', chunksize=chunksize) as reader:\n",
        "        for chunk in tqdm(reader):\n",
        "            chunk['date_create'] = chunk['date_create'].apply(localize)\n",
        "            chunk = chunk[chunk['date_create'].apply(lambda x: x >= pd.to_datetime(_start_from_date).tz_localize(None) if pd.notna(x) else False)]\n",
        "            chunk = chunk[_keep_cols]\\\n",
        "                    .rename(columns={'state_region_code' : 'region_code'})\\\n",
        "                    .merge(r[['region_code', 'region_name']], how='left', on='region_code')\n",
        "            chunk['date_modify'] = chunk['date_modify'].apply(localize)\n",
        "            chunk['published_date'] = chunk['published_date'].apply(localize)\n",
        "            df = pd.concat([df, chunk])\n",
        "            # break\n",
        "    df.to_csv(os.path.join(base_dir, f'cv_raw_{date}_truncated.csv'), sep=';', index=False)\n",
        "    with open(os.path.join(base_dir, f'cv_raw_{date}_truncated.pickle'), 'wb') as pf:\n",
        "        pickle.dump(df, pf, protocol=pickle.HIGHEST_PROTOCOL)\n",
        "    print(f'date: {date}, count: {len(df)}')\n",
        "    return df"
      ],
      "metadata": {
        "id": "UqZfyC1sNun5"
      },
      "execution_count": null,
      "outputs": []
    },
    {
      "cell_type": "code",
      "source": [
        "df = truncate_data(_dataset_date)"
      ],
      "metadata": {
        "colab": {
          "base_uri": "https://localhost:8080/"
        },
        "id": "fgyWLfSMCbP4",
        "outputId": "3eaeb72a-6305-4531-fd57-30d3261cd173"
      },
      "execution_count": null,
      "outputs": [
        {
          "output_type": "stream",
          "name": "stderr",
          "text": [
            "2it [19:15, 577.64s/it]\n"
          ]
        },
        {
          "output_type": "stream",
          "name": "stdout",
          "text": [
            "date: 03.11.2022, count: 1120811\n"
          ]
        }
      ]
    },
    {
      "cell_type": "code",
      "source": [
        "df.info()"
      ],
      "metadata": {
        "colab": {
          "base_uri": "https://localhost:8080/"
        },
        "id": "tisCwut4DBok",
        "outputId": "ae053236-d977-4838-ffa3-2cd199728b09"
      },
      "execution_count": null,
      "outputs": [
        {
          "output_type": "stream",
          "name": "stdout",
          "text": [
            "<class 'pandas.core.frame.DataFrame'>\n",
            "Int64Index: 1120811 entries, 0 to 217583\n",
            "Data columns (total 16 columns):\n",
            " #   Column                      Non-Null Count    Dtype         \n",
            "---  ------                      --------------    -----         \n",
            " 0   id                          1120811 non-null  object        \n",
            " 1   region_code                 1120800 non-null  object        \n",
            " 2   id_candidate                1120811 non-null  object        \n",
            " 3   date_create                 1120811 non-null  datetime64[ns]\n",
            " 4   date_modify                 1120811 non-null  datetime64[ns]\n",
            " 5   published_date              1120811 non-null  datetime64[ns]\n",
            " 6   education                   816400 non-null   object        \n",
            " 7   academic_degree             1444 non-null     object        \n",
            " 8   experience                  714224 non-null   object        \n",
            " 9   salary                      1120811 non-null  object        \n",
            " 10  professional_skills         180032 non-null   object        \n",
            " 11  desirableRelocationRegions  1120811 non-null  object        \n",
            " 12  busy_type                   1120501 non-null  object        \n",
            " 13  business_trip               560945 non-null   object        \n",
            " 14  languageKnowledge           1120811 non-null  object        \n",
            " 15  region_name                 1120798 non-null  object        \n",
            "dtypes: datetime64[ns](3), object(13)\n",
            "memory usage: 145.4+ MB\n"
          ]
        }
      ]
    },
    {
      "cell_type": "code",
      "source": [
        "df.head(3)"
      ],
      "metadata": {
        "colab": {
          "base_uri": "https://localhost:8080/",
          "height": 319
        },
        "id": "VVCeBg-uDBlF",
        "outputId": "6b929e8d-1093-4834-da67-402fd114f661"
      },
      "execution_count": null,
      "outputs": [
        {
          "output_type": "execute_result",
          "data": {
            "text/plain": [
              "                                     id    region_code  \\\n",
              "0  fb270bd0-1a65-11e9-95e0-ef76bd2a03c1  2300000000000   \n",
              "1  e664f940-869c-11ec-a2e7-839f0d9a4379  3600000000000   \n",
              "2  21fecfd0-01d6-11ed-9021-839f0d9a4379  6700000000000   \n",
              "\n",
              "                           id_candidate         date_create  \\\n",
              "0  b904cc00-1a61-11e9-95e0-ef76bd2a03c1 2019-01-17 17:41:31   \n",
              "1  a5ff3030-85cc-11ec-9d07-d768660431c4 2022-02-05 19:01:38   \n",
              "2  b72bdb80-01d5-11ed-9497-f557cda0de1e 2022-07-12 14:31:12   \n",
              "\n",
              "          date_modify      published_date                 education  \\\n",
              "0 2022-07-08 10:02:44 2019-01-18 07:54:20                    Высшее   \n",
              "1 2022-02-21 10:03:13 2022-02-21 10:03:13  Среднее профессиональное   \n",
              "2 2022-08-05 21:10:12 2022-07-12 14:32:00                       NaN   \n",
              "\n",
              "  academic_degree experience salary  \\\n",
              "0             NaN         22  40000   \n",
              "1             NaN          0  20000   \n",
              "2             NaN        NaN  15279   \n",
              "\n",
              "                                 professional_skills  \\\n",
              "0  <p>Грамотный, дисциплинированный, исполнительн...   \n",
              "1                                                NaN   \n",
              "2                                                NaN   \n",
              "\n",
              "  desirableRelocationRegions         busy_type          business_trip  \\\n",
              "0                         []  Полная занятость  Готов к командировкам   \n",
              "1                         []  Полная занятость                    NaN   \n",
              "2                         []         Временная                    NaN   \n",
              "\n",
              "                                   languageKnowledge          region_name  \n",
              "0  [{\"code_language\":\"Английский\",\"level\":\"Чтение...   Краснодарский край  \n",
              "1                                                 []  Воронежская область  \n",
              "2  [{\"code_language\":\"Русский\",\"level\":\"Родной\",\"...   Смоленская область  "
            ],
            "text/html": [
              "<div>\n",
              "<style scoped>\n",
              "    .dataframe tbody tr th:only-of-type {\n",
              "        vertical-align: middle;\n",
              "    }\n",
              "\n",
              "    .dataframe tbody tr th {\n",
              "        vertical-align: top;\n",
              "    }\n",
              "\n",
              "    .dataframe thead th {\n",
              "        text-align: right;\n",
              "    }\n",
              "</style>\n",
              "<table border=\"1\" class=\"dataframe\">\n",
              "  <thead>\n",
              "    <tr style=\"text-align: right;\">\n",
              "      <th></th>\n",
              "      <th>id</th>\n",
              "      <th>region_code</th>\n",
              "      <th>id_candidate</th>\n",
              "      <th>date_create</th>\n",
              "      <th>date_modify</th>\n",
              "      <th>published_date</th>\n",
              "      <th>education</th>\n",
              "      <th>academic_degree</th>\n",
              "      <th>experience</th>\n",
              "      <th>salary</th>\n",
              "      <th>professional_skills</th>\n",
              "      <th>desirableRelocationRegions</th>\n",
              "      <th>busy_type</th>\n",
              "      <th>business_trip</th>\n",
              "      <th>languageKnowledge</th>\n",
              "      <th>region_name</th>\n",
              "    </tr>\n",
              "  </thead>\n",
              "  <tbody>\n",
              "    <tr>\n",
              "      <th>0</th>\n",
              "      <td>fb270bd0-1a65-11e9-95e0-ef76bd2a03c1</td>\n",
              "      <td>2300000000000</td>\n",
              "      <td>b904cc00-1a61-11e9-95e0-ef76bd2a03c1</td>\n",
              "      <td>2019-01-17 17:41:31</td>\n",
              "      <td>2022-07-08 10:02:44</td>\n",
              "      <td>2019-01-18 07:54:20</td>\n",
              "      <td>Высшее</td>\n",
              "      <td>NaN</td>\n",
              "      <td>22</td>\n",
              "      <td>40000</td>\n",
              "      <td>&lt;p&gt;Грамотный, дисциплинированный, исполнительн...</td>\n",
              "      <td>[]</td>\n",
              "      <td>Полная занятость</td>\n",
              "      <td>Готов к командировкам</td>\n",
              "      <td>[{\"code_language\":\"Английский\",\"level\":\"Чтение...</td>\n",
              "      <td>Краснодарский край</td>\n",
              "    </tr>\n",
              "    <tr>\n",
              "      <th>1</th>\n",
              "      <td>e664f940-869c-11ec-a2e7-839f0d9a4379</td>\n",
              "      <td>3600000000000</td>\n",
              "      <td>a5ff3030-85cc-11ec-9d07-d768660431c4</td>\n",
              "      <td>2022-02-05 19:01:38</td>\n",
              "      <td>2022-02-21 10:03:13</td>\n",
              "      <td>2022-02-21 10:03:13</td>\n",
              "      <td>Среднее профессиональное</td>\n",
              "      <td>NaN</td>\n",
              "      <td>0</td>\n",
              "      <td>20000</td>\n",
              "      <td>NaN</td>\n",
              "      <td>[]</td>\n",
              "      <td>Полная занятость</td>\n",
              "      <td>NaN</td>\n",
              "      <td>[]</td>\n",
              "      <td>Воронежская область</td>\n",
              "    </tr>\n",
              "    <tr>\n",
              "      <th>2</th>\n",
              "      <td>21fecfd0-01d6-11ed-9021-839f0d9a4379</td>\n",
              "      <td>6700000000000</td>\n",
              "      <td>b72bdb80-01d5-11ed-9497-f557cda0de1e</td>\n",
              "      <td>2022-07-12 14:31:12</td>\n",
              "      <td>2022-08-05 21:10:12</td>\n",
              "      <td>2022-07-12 14:32:00</td>\n",
              "      <td>NaN</td>\n",
              "      <td>NaN</td>\n",
              "      <td>NaN</td>\n",
              "      <td>15279</td>\n",
              "      <td>NaN</td>\n",
              "      <td>[]</td>\n",
              "      <td>Временная</td>\n",
              "      <td>NaN</td>\n",
              "      <td>[{\"code_language\":\"Русский\",\"level\":\"Родной\",\"...</td>\n",
              "      <td>Смоленская область</td>\n",
              "    </tr>\n",
              "  </tbody>\n",
              "</table>\n",
              "</div>"
            ]
          },
          "metadata": {},
          "execution_count": 37
        }
      ]
    },
    {
      "cell_type": "code",
      "source": [],
      "metadata": {
        "id": "CER1e1iDaan4"
      },
      "execution_count": null,
      "outputs": []
    },
    {
      "cell_type": "code",
      "source": [],
      "metadata": {
        "id": "t5gh0Oj8aazs"
      },
      "execution_count": null,
      "outputs": []
    },
    {
      "cell_type": "markdown",
      "source": [
        "### join"
      ],
      "metadata": {
        "id": "j9dkOYBEY4J9"
      }
    },
    {
      "cell_type": "code",
      "source": [
        "_dataset_date = '29.12.2022'\n",
        "with open(os.path.join(base_dir, f'cv_raw_{_dataset_date}_truncated.pickle'), 'rb') as pf:\n",
        "    df_291222 = pickle.load(pf)\n",
        "print(len(df_291222))\n",
        "_dataset_date = '08.08.2023'\n",
        "with open(os.path.join(base_dir, f'cv_raw_{_dataset_date}_truncated.pickle'), 'rb') as pf:\n",
        "    df_080823 = pickle.load(pf)\n",
        "print(len(df_080823))"
      ],
      "metadata": {
        "id": "JMazM4W-aa2f",
        "colab": {
          "base_uri": "https://localhost:8080/"
        },
        "outputId": "03cc04ca-97cb-4c93-a392-5146b4a00d63"
      },
      "execution_count": null,
      "outputs": [
        {
          "output_type": "execute_result",
          "data": {
            "text/plain": [
              "3784341"
            ]
          },
          "metadata": {},
          "execution_count": 5
        }
      ]
    },
    {
      "cell_type": "code",
      "source": [
        "df = pd.concat([df_080823, df_291222], ignore_index=True).drop_duplicates(['id'])\n",
        "with open(os.path.join(base_dir, f'cv_raw_truncated.pickle'), 'wb') as pf:\n",
        "        pickle.dump(df, pf, protocol=pickle.HIGHEST_PROTOCOL)\n",
        "        print(f'count: {len(df)}')"
      ],
      "metadata": {
        "id": "VpxRJvuIaa54",
        "colab": {
          "base_uri": "https://localhost:8080/"
        },
        "outputId": "119a87af-a8fd-48c9-a6d4-74808f3a7b4a"
      },
      "execution_count": null,
      "outputs": [
        {
          "output_type": "stream",
          "name": "stdout",
          "text": [
            "count: 7595113\n"
          ]
        }
      ]
    },
    {
      "cell_type": "code",
      "source": [],
      "metadata": {
        "id": "KjTpWLYfZsux"
      },
      "execution_count": null,
      "outputs": []
    },
    {
      "cell_type": "code",
      "source": [],
      "metadata": {
        "id": "2QN5DxcDZsxO"
      },
      "execution_count": null,
      "outputs": []
    },
    {
      "cell_type": "code",
      "source": [],
      "metadata": {
        "id": "ZDvG6QO5Zs0z"
      },
      "execution_count": null,
      "outputs": []
    },
    {
      "cell_type": "markdown",
      "source": [
        "### before"
      ],
      "metadata": {
        "id": "YyDbxER8JDgR"
      }
    },
    {
      "cell_type": "code",
      "source": [
        "base_dir = './'\n",
        "before_date = '03.11.2022'\n",
        "after_date = '01.02.2023'"
      ],
      "metadata": {
        "id": "E3dvBwBCJOs2"
      },
      "execution_count": null,
      "outputs": []
    },
    {
      "cell_type": "code",
      "source": [
        "with open(os.path.join(base_dir, f'cv_raw_{before_date}_truncated.pickle'), 'rb') as pf:\n",
        "    df = pickle.load(pf)\n",
        "len(df)"
      ],
      "metadata": {
        "id": "lNio2X_Sl98o",
        "colab": {
          "base_uri": "https://localhost:8080/"
        },
        "outputId": "dfc2789e-4aeb-41c7-b92e-18388033677d"
      },
      "execution_count": null,
      "outputs": [
        {
          "output_type": "execute_result",
          "data": {
            "text/plain": [
              "472015"
            ]
          },
          "metadata": {},
          "execution_count": 85
        }
      ]
    },
    {
      "cell_type": "code",
      "source": [
        "cv = df.set_index('published_date').resample('W').count().reset_index()\n",
        "\n",
        "cv['publish_month'] = cv['published_date'].apply(lambda x: str(x)[5:7])\n",
        "cv = cv[cv['publish_month'] != '01']\n",
        "\n",
        "fig, ax = plt.subplots(1, 1, figsize=(8, 5))\n",
        "ax.plot(cv['published_date'], cv['id'])\n",
        "ax.vlines(dt.datetime(2022, 2, 24), 0, 1.5e4, colors='k', linestyles='--')\n",
        "ax.set_xlim(['2021-01-01', '2022-10-01'])\n",
        "_before = cv[cv['published_date'] < '2022-02-24']['id']\n",
        "_after = cv[cv['published_date'] >= '2022-02-24']['id']\n",
        "fig.text(0.2, 0.78, f\"Среднее до: {int(_before.mean())}\\nСреднее после: {int(_after.mean())}\", ha='left')\n",
        "fig.text(0.2, 0.70, f\"Число до: {_before.sum()}\\nЧисло после: {_after.sum()}\", ha='left')\n",
        "plt.title(f'Число резюме по дате публикации \\n(агрегация по неделям, данные на {before_date})')\n",
        "plt.xlabel('Дата опубликования')\n",
        "plt.ylabel('Количество резюме')\n",
        "plt.show()"
      ],
      "metadata": {
        "colab": {
          "base_uri": "https://localhost:8080/",
          "height": 504
        },
        "id": "MMZERwdIIiDA",
        "outputId": "a5e78005-97e9-4a36-af82-0c5dffdf5ec2"
      },
      "execution_count": null,
      "outputs": [
        {
          "output_type": "display_data",
          "data": {
            "text/plain": [
              "<Figure size 800x500 with 1 Axes>"
            ],
            "image/png": "[encoded data removed]"
          },
          "metadata": {}
        }
      ]
    },
    {
      "cell_type": "code",
      "source": [
        "cv = df.copy()\n",
        "cv['publish_month'] = cv['published_date'].apply(lambda x: str(x)[5:7])\n",
        "#cv = cv[cv['publish_month'] != '01']\n",
        "\n",
        "def _agg(g):\n",
        "    return np.mean(g.set_index('published_date').resample('W').count()['id'])\n",
        "\n",
        "cv_mean_count_diff = None\n",
        "for idx, g in cv.groupby(['region_code']):\n",
        "    region_code = np.min(g.region_code)\n",
        "    _before = g[g['published_date'] < '2022-02-24'][['id', 'published_date', 'region_code']]\n",
        "    _after = g[g['published_date'] >= '2022-02-24'][['id', 'published_date', 'region_code']]\n",
        "    _diff = _agg(_after) - _agg(_before)\n",
        "    cv_mean_count_diff = pd.concat([cv_mean_count_diff,\n",
        "                  pd.DataFrame.from_dict({'region_code' : region_code, 'cv_mean_count_diff' : _diff}, orient='index').T])\n",
        "cv_mean_count_diff2022 = cv_mean_count_diff.rename(columns={'cv_mean_count_diff' : 'cv_mean_count_diff2022'}).reset_index(drop=True)"
      ],
      "metadata": {
        "id": "a8EXFJg-pviW"
      },
      "execution_count": null,
      "outputs": []
    },
    {
      "cell_type": "code",
      "source": [
        "cv = df.copy()\n",
        "cv['publish_month'] = cv['published_date'].apply(lambda x: str(x)[5:7])\n",
        "cv = cv[cv['publish_month'] == '02']\n",
        "\n",
        "def _agg(g):\n",
        "    return np.mean(g.set_index('published_date').resample('W').count()['id'])\n",
        "\n",
        "cv_mean_count_diff = None\n",
        "for idx, g in cv.groupby(['region_code']):\n",
        "    region_code = np.min(g.region_code)\n",
        "    _before = g[g['published_date'] < '2022-02-01'][['id', 'published_date', 'region_code']]\n",
        "    _after = g[g['published_date'] >= '2022-02-01'][['id', 'published_date', 'region_code']]\n",
        "    _diff = _agg(_after) / _agg(_before)\n",
        "    cv_mean_count_diff = pd.concat([cv_mean_count_diff,\n",
        "                  pd.DataFrame.from_dict({'region_code' : region_code, 'cv_mean_count_diff' : _diff}, orient='index').T])\n",
        "cv_mean_count_difffeb = cv_mean_count_diff.rename(columns={'cv_mean_count_diff' : 'cv_mean_count_difffeb'}).reset_index(drop=True)"
      ],
      "metadata": {
        "id": "sjJufwtIWSIP"
      },
      "execution_count": null,
      "outputs": []
    },
    {
      "cell_type": "code",
      "source": [
        "# расчёт эксцесса с 2021-01-01\n",
        "cv = df.groupby('region_name').resample('W', on='published_date').count()[['id']].reset_index()\n",
        "\n",
        "cv['publish_month'] = cv['published_date'].apply(lambda x: str(x)[5:7])\n",
        "cv = cv[cv['publish_month'] != '01']\n",
        "\n",
        "k = {}\n",
        "for idx, g in cv.groupby('region_name'):\n",
        "    k[idx] = kurtosis(g['id'], fisher=True)\n",
        "excess_value = pd.Series(k).sort_values()\n",
        "excess_binary = excess_value < 0.5\n",
        "selected_regions = excess_value[excess_binary].index.to_list()"
      ],
      "metadata": {
        "id": "prJRmk0AIiGi"
      },
      "execution_count": null,
      "outputs": []
    },
    {
      "cell_type": "code",
      "source": [
        "pd.concat([excess_value, excess_binary], axis=1)\\\n",
        "          .reset_index()\\\n",
        "          .rename(columns={0:'excess_value', 1:'excess_binary', 'index':'region_name'})\\\n",
        "          .to_csv(os.path.join(base_dir, f'cv_excess_{before_date}.csv'), sep=';', index=False)"
      ],
      "metadata": {
        "id": "YRbRGP13UHi3"
      },
      "execution_count": null,
      "outputs": []
    },
    {
      "cell_type": "code",
      "source": [
        "fig, ax = plt.subplots(1, 1, figsize=(8, 15))\n",
        "ax.barh(y=[i for i, _ in enumerate(excess_value)], width=[i for i in excess_value])\n",
        "#ax.set_yticklabels(k.index.to_list())\n",
        "ax.bar_label(ax.containers[0], labels=excess_value.index.to_list(), label_type='edge')"
      ],
      "metadata": {
        "id": "lT0kqocQLhHe"
      },
      "execution_count": null,
      "outputs": []
    },
    {
      "cell_type": "code",
      "source": [
        "# отобранные регионы по величине эксцесса\n",
        "cv = df.copy()\n",
        "cv['publish_month'] = cv['published_date'].apply(lambda x: str(x)[:8]+'01')\n",
        "cv = cv.drop_duplicates(['id']).groupby(['region_name', 'publish_month']).count().reset_index()\n",
        "cv = cv[cv['region_name'].apply(lambda x: x in selected_regions)]\n",
        "fig = px.line(data_frame=cv, x=\"publish_month\", y=\"id\", color='region_name', render_mode='webgl',\n",
        "              title=f'Число резюме по дате публикации \\n(агрегация по месяцам, данные на {before_date})')\n",
        "fig.add_vline(x=\"2022-02-24\", line_width=3, line_dash=\"dash\", line_color=\"green\")\n",
        "fig.show()"
      ],
      "metadata": {
        "id": "bS5DcckvMX4p"
      },
      "execution_count": null,
      "outputs": []
    },
    {
      "cell_type": "markdown",
      "source": [
        "### after"
      ],
      "metadata": {
        "id": "sdmggqxyRGMk"
      }
    },
    {
      "cell_type": "code",
      "source": [
        "base_dir = './'\n",
        "before_date = '03.11.2022'\n",
        "after_date = '01.02.2023'"
      ],
      "metadata": {
        "id": "MRXC6vlORGMk"
      },
      "execution_count": null,
      "outputs": []
    },
    {
      "cell_type": "code",
      "source": [
        "with open(os.path.join(base_dir, f'cv_raw_{after_date}_truncated.pickle'), 'rb') as pf:\n",
        "    df = pickle.load(pf)\n",
        "len(df)"
      ],
      "metadata": {
        "colab": {
          "base_uri": "https://localhost:8080/"
        },
        "outputId": "c8765e64-ca24-4d65-b16a-855802ee1663",
        "id": "_dEh3W_PRGMl"
      },
      "execution_count": null,
      "outputs": [
        {
          "output_type": "execute_result",
          "data": {
            "text/plain": [
              "503853"
            ]
          },
          "metadata": {},
          "execution_count": 89
        }
      ]
    },
    {
      "cell_type": "code",
      "source": [
        "cv = df.set_index('published_date').resample('W').count().reset_index()\n",
        "\n",
        "cv['publish_month'] = cv['published_date'].apply(lambda x: str(x)[5:7])\n",
        "cv = cv[cv['publish_month'] != '01']\n",
        "\n",
        "fig, ax = plt.subplots(1, 1, figsize=(8, 5))\n",
        "ax.plot(cv['published_date'], cv['id'])\n",
        "ax.vlines(dt.datetime(2022, 2, 24), 0, 1.5e4, colors='k', linestyles='--')\n",
        "ax.set_xlim(['2021-01-01', '2023-02-01'])\n",
        "_before = cv[cv['published_date'] < '2022-02-24']['id']\n",
        "_after = cv[cv['published_date'] >= '2022-02-24']['id']\n",
        "fig.text(0.2, 0.78, f\"Среднее до: {int(_before.mean())}\\nСреднее после: {int(_after.mean())}\", ha='left')\n",
        "fig.text(0.2, 0.70, f\"Число до: {_before.sum()}\\nЧисло после: {_after.sum()}\", ha='left')\n",
        "plt.title(f'Число резюме по дате публикации \\n(агрегация по неделям, данные на {after_date})')\n",
        "plt.xlabel('Дата опубликования')\n",
        "plt.ylabel('Количество резюме')\n",
        "plt.show()"
      ],
      "metadata": {
        "colab": {
          "base_uri": "https://localhost:8080/",
          "height": 504
        },
        "id": "4J5Cm_FMXE5B",
        "outputId": "9c697d15-48e7-4390-c83c-f6a0643ddd1e"
      },
      "execution_count": null,
      "outputs": [
        {
          "output_type": "display_data",
          "data": {
            "text/plain": [
              "<Figure size 800x500 with 1 Axes>"
            ],
            "image/png": "[encoded data removed]"
          },
          "metadata": {}
        }
      ]
    },
    {
      "cell_type": "code",
      "source": [
        "cv = df.copy()\n",
        "cv['publish_month'] = cv['published_date'].apply(lambda x: str(x)[5:7])\n",
        "#cv = cv[cv['publish_month'] != '01']\n",
        "\n",
        "def _agg(g):\n",
        "    return np.mean(g.set_index('published_date').resample('W').count()['id'])\n",
        "\n",
        "cv_mean_count_diff = None\n",
        "for idx, g in cv.groupby(['region_code']):\n",
        "    region_code = np.min(g.region_code)\n",
        "    _before = g[g['published_date'] < '2022-02-24'][['id', 'published_date', 'region_code']]\n",
        "    _after = g[g['published_date'] >= '2022-02-24'][['id', 'published_date', 'region_code']]\n",
        "    _diff = _agg(_after) - _agg(_before)\n",
        "    cv_mean_count_diff = pd.concat([cv_mean_count_diff,\n",
        "                  pd.DataFrame.from_dict({'region_code' : region_code, 'cv_mean_count_diff' : _diff}, orient='index').T])\n",
        "cv_mean_count_diff2023 = cv_mean_count_diff.rename(columns={'cv_mean_count_diff' : 'cv_mean_count_diff2023'}).reset_index(drop=True)"
      ],
      "metadata": {
        "id": "wcOFQ8J_wrGl"
      },
      "execution_count": null,
      "outputs": []
    },
    {
      "cell_type": "code",
      "source": [
        "# расчёт эксцесса с 2021-01-01\n",
        "cv = df.groupby('region_name').resample('W', on='published_date').count()[['id']].reset_index()\n",
        "\n",
        "cv['publish_month'] = cv['published_date'].apply(lambda x: str(x)[5:7])\n",
        "cv = cv[cv['publish_month'] != '01']\n",
        "\n",
        "k = {}\n",
        "for idx, g in cv.groupby('region_name'):\n",
        "    k[idx] = kurtosis(g['id'], fisher=True)\n",
        "excess_value = pd.Series(k).sort_values()\n",
        "excess_binary = excess_value < 0.5\n",
        "selected_regions = excess_value[excess_binary].index.to_list()"
      ],
      "metadata": {
        "id": "LSwLfPFARGMl"
      },
      "execution_count": null,
      "outputs": []
    },
    {
      "cell_type": "code",
      "source": [
        "pd.concat([excess_value, excess_binary], axis=1)\\\n",
        "          .reset_index()\\\n",
        "          .rename(columns={0:'excess_value', 1:'excess_binary', 'index':'region_name'})\\\n",
        "          .to_csv(os.path.join(base_dir, f'cv_excess_{after_date}.csv'), sep=';', index=False)"
      ],
      "metadata": {
        "id": "Muj3To4OSrfT"
      },
      "execution_count": null,
      "outputs": []
    },
    {
      "cell_type": "code",
      "source": [
        "fig, ax = plt.subplots(1, 1, figsize=(8, 15))\n",
        "ax.barh(y=[i for i, _ in enumerate(excess_value)], width=[i for i in excess_value])\n",
        "#ax.set_yticklabels(k.index.to_list())\n",
        "ax.bar_label(ax.containers[0], labels=excess_value.index.to_list(), label_type='edge')"
      ],
      "metadata": {
        "id": "b8v7-hKrRGMl"
      },
      "execution_count": null,
      "outputs": []
    },
    {
      "cell_type": "code",
      "source": [
        "# отобранные регионы по величине эксцесса\n",
        "cv = df.copy()\n",
        "cv['publish_month'] = cv['published_date'].apply(lambda x: str(x)[:8]+'01')\n",
        "cv = cv.drop_duplicates(['id']).groupby(['region_name', 'publish_month']).count().reset_index()\n",
        "cv = cv[cv['region_name'].apply(lambda x: x in selected_regions)]\n",
        "fig = px.line(data_frame=cv, x=\"publish_month\", y=\"id\", color='region_name', render_mode='webgl',\n",
        "              title=f'Число резюме по дате публикации \\n(агрегация по месяцам, данные на {before_date})')\n",
        "fig.add_vline(x=\"2022-02-24\", line_width=3, line_dash=\"dash\", line_color=\"green\")\n",
        "fig.show()"
      ],
      "metadata": {
        "id": "ImuPFcisRGMl"
      },
      "execution_count": null,
      "outputs": []
    },
    {
      "cell_type": "code",
      "source": [
        "#########"
      ],
      "metadata": {
        "id": "CxI7gCXrQ9za"
      },
      "execution_count": null,
      "outputs": []
    },
    {
      "cell_type": "code",
      "source": [
        "cv_mean_count_diff2022.set_index('region_code')\\\n",
        "    .join(cv_mean_count_diff2023.set_index('region_code'), how='left')\\\n",
        "    .join(cv_mean_count_difffeb.set_index('region_code'), how='left')\\\n",
        "    .to_csv(os.path.join(base_dir, 'cv_mean_count_diff.csv'), index=True, sep=';')"
      ],
      "metadata": {
        "id": "GcyNtc-0L4z6"
      },
      "execution_count": null,
      "outputs": []
    }
  ]
}