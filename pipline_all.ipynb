{
  "cells": [
    {
      "cell_type": "markdown",
      "id": "01c20a63",
      "metadata": {
        "id": "01c20a63"
      },
      "source": [
        "# Работа модели для матчинга резюме и вакансий портала \"Работа в России\":"
      ]
    },
    {
      "cell_type": "code",
      "execution_count": 1,
      "id": "a9d6301b",
      "metadata": {
        "colab": {
          "base_uri": "https://localhost:8080/"
        },
        "id": "a9d6301b",
        "outputId": "bc04796e-1bff-458e-dd45-3bf608135cbb"
      },
      "outputs": [
        {
          "output_type": "stream",
          "name": "stdout",
          "text": [
            "Cloning into 'rostrud_ml'...\n",
            "remote: Enumerating objects: 75, done.\u001b[K\n",
            "remote: Counting objects: 100% (75/75), done.\u001b[K\n",
            "remote: Compressing objects: 100% (60/60), done.\u001b[K\n",
            "remote: Total 75 (delta 30), reused 58 (delta 13), pack-reused 0\u001b[K\n",
            "Receiving objects: 100% (75/75), 52.18 KiB | 5.22 MiB/s, done.\n",
            "Resolving deltas: 100% (30/30), done.\n"
          ]
        }
      ],
      "source": [
        "#Установим библиотеку, разработанную ЦПУР\n",
        "#jupyter notebook --NotebookApp.allow_origin='https://colab.research.google.com' --port=8899 --NotebookApp.port_retries=0\n",
        "!git clone https://github.com/ellariel/rostrud_ml.git"
      ]
    },
    {
      "cell_type": "markdown",
      "id": "cc746f61",
      "metadata": {
        "id": "cc746f61"
      },
      "source": [
        "После скачивания корневая папка должна быть переименована в rostrud_ml"
      ]
    },
    {
      "cell_type": "markdown",
      "id": "e9893baf",
      "metadata": {
        "id": "e9893baf"
      },
      "source": [
        "## Предварительные действия\n",
        "У этого скрипта есть несколько зависимостей, их можно поставить через pip. При запуске блока кода ниже всё поставится само.\n",
        "\n",
        "Если в какой-то момент выполнения кода вы увидите ошибку, что вам не хватает некого питоновского пакета, вы можете дописать его название в новую строчку файла requirements.txt и снова запустить этот блок."
      ]
    },
    {
      "cell_type": "code",
      "execution_count": 2,
      "id": "c3c948e7",
      "metadata": {
        "id": "c3c948e7",
        "colab": {
          "base_uri": "https://localhost:8080/"
        },
        "outputId": "3f5a61ad-a459-4e91-bf2e-7b7b901ee988"
      },
      "outputs": [
        {
          "output_type": "stream",
          "name": "stdout",
          "text": [
            "Collecting gensim==3.5.0 (from -r rostrud_ml/requirements.txt (line 1))\n",
            "  Downloading gensim-3.5.0.tar.gz (22.9 MB)\n",
            "\u001b[2K     \u001b[90m━━━━━━━━━━━━━━━━━━━━━━━━━━━━━━━━━━━━━━━━\u001b[0m \u001b[32m22.9/22.9 MB\u001b[0m \u001b[31m15.2 MB/s\u001b[0m eta \u001b[36m0:00:00\u001b[0m\n",
            "\u001b[?25h  Preparing metadata (setup.py) ... \u001b[?25l\u001b[?25hdone\n",
            "Collecting lxml==4.8.0 (from -r rostrud_ml/requirements.txt (line 2))\n",
            "  Downloading lxml-4.8.0-cp310-cp310-manylinux_2_17_x86_64.manylinux2014_x86_64.manylinux_2_24_x86_64.whl (7.0 MB)\n",
            "\u001b[2K     \u001b[90m━━━━━━━━━━━━━━━━━━━━━━━━━━━━━━━━━━━━━━━━\u001b[0m \u001b[32m7.0/7.0 MB\u001b[0m \u001b[31m57.5 MB/s\u001b[0m eta \u001b[36m0:00:00\u001b[0m\n",
            "\u001b[?25hCollecting numpy==1.19.2 (from -r rostrud_ml/requirements.txt (line 3))\n",
            "  Downloading numpy-1.19.2.zip (7.3 MB)\n",
            "\u001b[2K     \u001b[90m━━━━━━━━━━━━━━━━━━━━━━━━━━━━━━━━━━━━━━━━\u001b[0m \u001b[32m7.3/7.3 MB\u001b[0m \u001b[31m66.6 MB/s\u001b[0m eta \u001b[36m0:00:00\u001b[0m\n",
            "\u001b[?25h  Installing build dependencies ... \u001b[?25l\u001b[?25hdone\n",
            "  Getting requirements to build wheel ... \u001b[?25l\u001b[?25hdone\n",
            "  \u001b[1;31merror\u001b[0m: \u001b[1msubprocess-exited-with-error\u001b[0m\n",
            "  \n",
            "  \u001b[31m×\u001b[0m \u001b[32mPreparing metadata \u001b[0m\u001b[1;32m(\u001b[0m\u001b[32mpyproject.toml\u001b[0m\u001b[1;32m)\u001b[0m did not run successfully.\n",
            "  \u001b[31m│\u001b[0m exit code: \u001b[1;36m1\u001b[0m\n",
            "  \u001b[31m╰─>\u001b[0m See above for output.\n",
            "  \n",
            "  \u001b[1;35mnote\u001b[0m: This error originates from a subprocess, and is likely not a problem with pip.\n",
            "  Preparing metadata (pyproject.toml) ... \u001b[?25l\u001b[?25herror\n",
            "\u001b[1;31merror\u001b[0m: \u001b[1mmetadata-generation-failed\u001b[0m\n",
            "\n",
            "\u001b[31m×\u001b[0m Encountered error while generating package metadata.\n",
            "\u001b[31m╰─>\u001b[0m See above for output.\n",
            "\n",
            "\u001b[1;35mnote\u001b[0m: This is an issue with the package mentioned above, not pip.\n",
            "\u001b[1;36mhint\u001b[0m: See above for details.\n"
          ]
        }
      ],
      "source": [
        "#Установка окружения\n",
        "!pip install -r rostrud_ml/requirements.txt"
      ]
    },
    {
      "cell_type": "markdown",
      "id": "11516604",
      "metadata": {
        "id": "11516604"
      },
      "source": [
        "В файле rostrud_ml/utils/all_tables_names.yml указать путь к директории, куда будут скачиваться и парситься файлы с резюме, вакансиями (сейчас там \"workdir\")."
      ]
    },
    {
      "cell_type": "markdown",
      "id": "a3457e30",
      "metadata": {
        "id": "a3457e30"
      },
      "source": [
        "В файле rostrud-ml/utils/config_to_bd_example.yml указать ваши настройки для подключения к БД и поменять название файла на config_to_bd.yml"
      ]
    },
    {
      "cell_type": "code",
      "source": [
        "import requests\n",
        "from tqdm import tqdm\n",
        "import pandas as pd\n",
        "\n",
        "def _getfileslist(url):\n",
        "  r = requests.get(url)\n",
        "  return ['data' + i.split('\">data')[0] for i in r.text.split('<a href=\"data')[1:]]"
      ],
      "metadata": {
        "id": "XCB4dbebkak0"
      },
      "id": "XCB4dbebkak0",
      "execution_count": 3,
      "outputs": []
    },
    {
      "cell_type": "code",
      "source": [
        "base_url = 'https://opendata.trudvsem.ru/oda2Hialoephidohyie1oR6chaem1oN0quiephooleiWei1aiD/'\n",
        "file_url = ['7710538364-cv/', '7710538364-professions/', '7710538364-regions/', '7710538364-industries/', '7710538364-vacancy/']"
      ],
      "metadata": {
        "id": "ZBPp8gi_kana"
      },
      "id": "ZBPp8gi_kana",
      "execution_count": 4,
      "outputs": []
    },
    {
      "cell_type": "code",
      "source": [
        "s = pd.DataFrame(_getfileslist(base_url + file_url[0])).rename(columns={0: 'cv'})\n",
        "s = s[s['cv'].apply(lambda x: pd.notna(x) and '.gz' in x)]\n",
        "s = s[s['cv'].apply(lambda x: int(x.split('data-')[1][:4]) >= 2019)]\n",
        "s['date'] = s['cv'].apply(lambda x: x.split('data-')[1][:8])\n",
        "s = s.groupby('date').agg('last').reset_index()\n",
        "\n",
        "for l in file_url[1:]:\n",
        "    c = l.split('-')[1][:2]\n",
        "    v = pd.DataFrame(pd.Series(_getfileslist(base_url + l)).rename(c))\n",
        "    v = v[v[c].apply(lambda x: pd.notna(x) and '.gz' in x)]\n",
        "    v = v[v[c].apply(lambda x: int(x.split('data-')[1][:4]) >= 2019)]\n",
        "    v['date'] = v[c].apply(lambda x: x.split('data-')[1][:8])\n",
        "    v = v.groupby('date').agg('last').reset_index()\n",
        "    s = s.set_index('date').join(v.set_index('date')).reset_index()\n",
        "s.to_csv('filtered_all.csv', index=False)"
      ],
      "metadata": {
        "id": "flP7bvY3lZ6x"
      },
      "id": "flP7bvY3lZ6x",
      "execution_count": 6,
      "outputs": []
    },
    {
      "cell_type": "code",
      "source": [],
      "metadata": {
        "id": "3SxohJL16vCr"
      },
      "id": "3SxohJL16vCr",
      "execution_count": null,
      "outputs": []
    },
    {
      "cell_type": "markdown",
      "id": "87b7c9a8",
      "metadata": {
        "id": "87b7c9a8"
      },
      "source": [
        "## Загрузка в БД необходимых данных"
      ]
    },
    {
      "cell_type": "code",
      "source": [
        "filtered = pd.read_csv('filtered_all.csv') #список ссылок полученный на прошлом этапе\n",
        "len(filtered)"
      ],
      "metadata": {
        "colab": {
          "base_uri": "https://localhost:8080/"
        },
        "id": "FMpzJnaI6ySC",
        "outputId": "c7f3fe32-41f9-4121-f120-68ff4e468312"
      },
      "id": "FMpzJnaI6ySC",
      "execution_count": 8,
      "outputs": [
        {
          "output_type": "execute_result",
          "data": {
            "text/plain": [
              "1308"
            ]
          },
          "metadata": {},
          "execution_count": 8
        }
      ]
    },
    {
      "cell_type": "code",
      "execution_count": null,
      "id": "988f6f3d",
      "metadata": {
        "id": "988f6f3d"
      },
      "outputs": [],
      "source": [
        "#Установка модулей\n",
        "from rostrud_ml.process.adding_tables_psycopg import AddingDataPsycopg\n",
        "from rostrud_ml.process.renewal import Renewal"
      ]
    },
    {
      "cell_type": "code",
      "execution_count": null,
      "id": "4d172382",
      "metadata": {
        "id": "4d172382"
      },
      "outputs": [],
      "source": [
        "#Cоздание таблиц в БД\n",
        "db = AddingDataPsycopg()\n",
        "for table in ['curricula_vitae', 'workexp', 'vacancies', 'professions', 'industries', 'regions']:\n",
        "    db.create_table(table, 'project_trudvsem') #'project_trudvsem' - название схемы в вашей БД, создать, если нету\n",
        "db.conn.close()"
      ]
    },
    {
      "cell_type": "markdown",
      "id": "15a975c7",
      "metadata": {
        "id": "15a975c7"
      },
      "source": [
        "Взять ссылки на файлы с данными с ftp поратала https://opendata.trudvsem.ru/oda2Hialoephidohyie1oR6chaem1oN0quiephooleiWei1aiD/:\n",
        "\n",
        "Из директорий\n",
        "https://opendata.trudvsem.ru/oda2Hialoephidohyie1oR6chaem1oN0quiephooleiWei1aiD/7710538364-cv/\n",
        "https://opendata.trudvsem.ru/oda2Hialoephidohyie1oR6chaem1oN0quiephooleiWei1aiD/7710538364-vacancy/ нужно выбрать подходящие файлы (имеющие в наименовании дату) - один файл резюме и один вакансий.\n",
        "\n",
        "Подобным образом выбрать ссылки для данных о профессиях, сферах занятости, регионах из соответствующих директорий:\n",
        "https://opendata.trudvsem.ru/oda2Hialoephidohyie1oR6chaem1oN0quiephooleiWei1aiD/7710538364-professions/\n",
        "https://opendata.trudvsem.ru/oda2Hialoephidohyie1oR6chaem1oN0quiephooleiWei1aiD/7710538364-industries/\n",
        "https://opendata.trudvsem.ru/oda2Hialoephidohyie1oR6chaem1oN0quiephooleiWei1aiD/7710538364-regions/\n",
        "\n",
        "Для каждого типа, вставив нужную ссылку, запустить следующие ячейки:\n",
        "В примере: тип \"резюме\" и самый первый файл резюме 2018г. Необходимо поменять ссылку на наиболее актуальный файл."
      ]
    },
    {
      "cell_type": "code",
      "source": [
        "filtered.head(1)"
      ],
      "metadata": {
        "colab": {
          "base_uri": "https://localhost:8080/",
          "height": 98
        },
        "id": "-oV9abLbscTk",
        "outputId": "e68b003f-47f6-4dc8-b586-497a9bba5962"
      },
      "id": "-oV9abLbscTk",
      "execution_count": 10,
      "outputs": [
        {
          "output_type": "execute_result",
          "data": {
            "text/plain": [
              "       date                                                 cv  \\\n",
              "0  20190101  data-20190101T031204-structure-20161130T143000...   \n",
              "\n",
              "                                                  pr  \\\n",
              "0  data-20190101T031204-structure-20161130T143000...   \n",
              "\n",
              "                                                  re  \\\n",
              "0  data-20190101T031204-structure-20161130T143000...   \n",
              "\n",
              "                                                  in  \\\n",
              "0  data-20190101T031204-structure-20161130T143000...   \n",
              "\n",
              "                                                  va  \n",
              "0  data-20190101T031204-structure-20161130T143000...  "
            ],
            "text/html": [
              "\n",
              "  <div id=\"df-9e2f8a1a-d206-44d7-a4e2-34e151d4401a\" class=\"colab-df-container\">\n",
              "    <div>\n",
              "<style scoped>\n",
              "    .dataframe tbody tr th:only-of-type {\n",
              "        vertical-align: middle;\n",
              "    }\n",
              "\n",
              "    .dataframe tbody tr th {\n",
              "        vertical-align: top;\n",
              "    }\n",
              "\n",
              "    .dataframe thead th {\n",
              "        text-align: right;\n",
              "    }\n",
              "</style>\n",
              "<table border=\"1\" class=\"dataframe\">\n",
              "  <thead>\n",
              "    <tr style=\"text-align: right;\">\n",
              "      <th></th>\n",
              "      <th>date</th>\n",
              "      <th>cv</th>\n",
              "      <th>pr</th>\n",
              "      <th>re</th>\n",
              "      <th>in</th>\n",
              "      <th>va</th>\n",
              "    </tr>\n",
              "  </thead>\n",
              "  <tbody>\n",
              "    <tr>\n",
              "      <th>0</th>\n",
              "      <td>20190101</td>\n",
              "      <td>data-20190101T031204-structure-20161130T143000...</td>\n",
              "      <td>data-20190101T031204-structure-20161130T143000...</td>\n",
              "      <td>data-20190101T031204-structure-20161130T143000...</td>\n",
              "      <td>data-20190101T031204-structure-20161130T143000...</td>\n",
              "      <td>data-20190101T031204-structure-20161130T143000...</td>\n",
              "    </tr>\n",
              "  </tbody>\n",
              "</table>\n",
              "</div>\n",
              "    <div class=\"colab-df-buttons\">\n",
              "\n",
              "  <div class=\"colab-df-container\">\n",
              "    <button class=\"colab-df-convert\" onclick=\"convertToInteractive('df-9e2f8a1a-d206-44d7-a4e2-34e151d4401a')\"\n",
              "            title=\"Convert this dataframe to an interactive table.\"\n",
              "            style=\"display:none;\">\n",
              "\n",
              "  <svg xmlns=\"http://www.w3.org/2000/svg\" height=\"24px\" viewBox=\"0 -960 960 960\">\n",
              "    <path d=\"M120-120v-720h720v720H120Zm60-500h600v-160H180v160Zm220 220h160v-160H400v160Zm0 220h160v-160H400v160ZM180-400h160v-160H180v160Zm440 0h160v-160H620v160ZM180-180h160v-160H180v160Zm440 0h160v-160H620v160Z\"/>\n",
              "  </svg>\n",
              "    </button>\n",
              "\n",
              "  <style>\n",
              "    .colab-df-container {\n",
              "      display:flex;\n",
              "      gap: 12px;\n",
              "    }\n",
              "\n",
              "    .colab-df-convert {\n",
              "      background-color: #E8F0FE;\n",
              "      border: none;\n",
              "      border-radius: 50%;\n",
              "      cursor: pointer;\n",
              "      display: none;\n",
              "      fill: #1967D2;\n",
              "      height: 32px;\n",
              "      padding: 0 0 0 0;\n",
              "      width: 32px;\n",
              "    }\n",
              "\n",
              "    .colab-df-convert:hover {\n",
              "      background-color: #E2EBFA;\n",
              "      box-shadow: 0px 1px 2px rgba(60, 64, 67, 0.3), 0px 1px 3px 1px rgba(60, 64, 67, 0.15);\n",
              "      fill: #174EA6;\n",
              "    }\n",
              "\n",
              "    .colab-df-buttons div {\n",
              "      margin-bottom: 4px;\n",
              "    }\n",
              "\n",
              "    [theme=dark] .colab-df-convert {\n",
              "      background-color: #3B4455;\n",
              "      fill: #D2E3FC;\n",
              "    }\n",
              "\n",
              "    [theme=dark] .colab-df-convert:hover {\n",
              "      background-color: #434B5C;\n",
              "      box-shadow: 0px 1px 3px 1px rgba(0, 0, 0, 0.15);\n",
              "      filter: drop-shadow(0px 1px 2px rgba(0, 0, 0, 0.3));\n",
              "      fill: #FFFFFF;\n",
              "    }\n",
              "  </style>\n",
              "\n",
              "    <script>\n",
              "      const buttonEl =\n",
              "        document.querySelector('#df-9e2f8a1a-d206-44d7-a4e2-34e151d4401a button.colab-df-convert');\n",
              "      buttonEl.style.display =\n",
              "        google.colab.kernel.accessAllowed ? 'block' : 'none';\n",
              "\n",
              "      async function convertToInteractive(key) {\n",
              "        const element = document.querySelector('#df-9e2f8a1a-d206-44d7-a4e2-34e151d4401a');\n",
              "        const dataTable =\n",
              "          await google.colab.kernel.invokeFunction('convertToInteractive',\n",
              "                                                    [key], {});\n",
              "        if (!dataTable) return;\n",
              "\n",
              "        const docLinkHtml = 'Like what you see? Visit the ' +\n",
              "          '<a target=\"_blank\" href=https://colab.research.google.com/notebooks/data_table.ipynb>data table notebook</a>'\n",
              "          + ' to learn more about interactive tables.';\n",
              "        element.innerHTML = '';\n",
              "        dataTable['output_type'] = 'display_data';\n",
              "        await google.colab.output.renderOutput(dataTable, element);\n",
              "        const docLink = document.createElement('div');\n",
              "        docLink.innerHTML = docLinkHtml;\n",
              "        element.appendChild(docLink);\n",
              "      }\n",
              "    </script>\n",
              "  </div>\n",
              "\n",
              "    </div>\n",
              "  </div>\n"
            ]
          },
          "metadata": {},
          "execution_count": 10
        }
      ]
    },
    {
      "cell_type": "code",
      "source": [
        "for _, link in tqdm(filtered.iterrows(), total=len(filtered)):\n",
        "  #if int(link['month']) < 202005:\n",
        "  #  continue\n",
        "  try:\n",
        "    ren = Renewal('cvs', base_url + file_url[0] + link['cv'])\n",
        "    ren.download()\n",
        "    ren.extract()\n",
        "    ren.parse_update()\n",
        "    ren.delete()\n",
        "  except Exception as e:\n",
        "    print(f'cvs error: {e}')\n",
        "\n",
        "  if pd.notna(link['va']):\n",
        "    try:\n",
        "      ren = Renewal('vacancies', base_url + file_url[4] + link['va'])\n",
        "      ren.download()\n",
        "      ren.extract()\n",
        "      ren.parse_update()\n",
        "      ren.delete()\n",
        "    except Exception as e:\n",
        "      print(f'vacancies error: {e}')\n",
        "\n",
        "  try:\n",
        "    ren = Renewal('professions', base_url + file_url[1] + link['pr'])\n",
        "    ren.download()\n",
        "    ren.extract()\n",
        "    ren.parse_update()\n",
        "    ren.delete()\n",
        "  except Exception as e:\n",
        "    print(f'professions error: {e}')\n",
        "\n",
        "  try:\n",
        "    ren = Renewal('industries', base_url + file_url[2] + link['re'])\n",
        "    ren.download()\n",
        "    ren.extract()\n",
        "    ren.parse_update()\n",
        "    ren.delete()\n",
        "  except Exception as e:\n",
        "    print('industries error')\n",
        "\n",
        "  try:\n",
        "    ren = Renewal('regions', base_url + file_url[3] + link['in'])\n",
        "    ren.download()\n",
        "    ren.extract()\n",
        "    ren.parse_update()\n",
        "    ren.delete()\n",
        "  except Exception as e:\n",
        "    print('regions error')\n",
        "\n",
        "  #break"
      ],
      "metadata": {
        "id": "Uly_t5GpvGmd"
      },
      "id": "Uly_t5GpvGmd",
      "execution_count": null,
      "outputs": []
    },
    {
      "cell_type": "code",
      "source": [],
      "metadata": {
        "id": "qsvJP-3mvGrD"
      },
      "id": "qsvJP-3mvGrD",
      "execution_count": null,
      "outputs": []
    },
    {
      "cell_type": "code",
      "source": [],
      "metadata": {
        "id": "yxRaXgCSvGuV"
      },
      "id": "yxRaXgCSvGuV",
      "execution_count": null,
      "outputs": []
    }
  ],
  "metadata": {
    "kernelspec": {
      "display_name": "Python 3 (ipykernel)",
      "language": "python",
      "name": "python3"
    },
    "language_info": {
      "codemirror_mode": {
        "name": "ipython",
        "version": 3
      },
      "file_extension": ".py",
      "mimetype": "text/x-python",
      "name": "python",
      "nbconvert_exporter": "python",
      "pygments_lexer": "ipython3",
      "version": "3.9.7"
    },
    "colab": {
      "provenance": []
    }
  },
  "nbformat": 4,
  "nbformat_minor": 5
}